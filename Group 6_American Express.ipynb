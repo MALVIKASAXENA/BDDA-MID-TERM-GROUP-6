{
 "cells": [
  {
   "cell_type": "markdown",
   "id": "3f2aa9c0",
   "metadata": {
    "papermill": {
     "duration": 0.027957,
     "end_time": "2022-08-20T12:11:59.947070",
     "exception": false,
     "start_time": "2022-08-20T12:11:59.919113",
     "status": "completed"
    },
    "tags": []
   },
   "source": [
    "---\n",
    "# BDDA Project\n",
    "# Group 6\n",
    "# Karthick P M - 025052\n",
    "# Malvika Saxena - 025020\n",
    "# Savitri Pathak - 025030\n",
    "\n",
    "---"
   ]
  },
  {
   "cell_type": "markdown",
   "id": "d3a64344",
   "metadata": {
    "papermill": {
     "duration": 0.022201,
     "end_time": "2022-08-20T12:11:59.991865",
     "exception": false,
     "start_time": "2022-08-20T12:11:59.969664",
     "status": "completed"
    },
    "tags": []
   },
   "source": [
    "**Problem Statement:**\n",
    "\n",
    "* Whether out at a restaurant or buying tickets to a concert, modern life counts on the convenience of a credit card to make daily purchases. It saves us from carrying large amounts of cash and also can advance a full purchase that can be paid over time.\n",
    "* How do card issuers know we’ll pay back what we charge? That’s a complex problem with many existing solutions—and even more potential improvements, to be explored in this competition.\n",
    "* Credit default prediction is central to managing risk in a consumer lending business. \n",
    " * Credit default prediction allows lenders to optimize lending decisions, which leads to a better customer experience and sound business economics. \n",
    "* Current models exist to help manage risk. But it's possible to create better models that can outperform those currently in use.\n",
    "\n",
    "* The objective of this competition is to predict the probability that a customer does not pay back their credit card balance amount in the future based on their monthly customer profile. \n",
    " * The target binary variable is calculated by observing 18 months performance window after the latest credit card statement, and if the customer does not pay due amount in 120 days after their latest statement date it is considered a default event."
   ]
  },
  {
   "cell_type": "markdown",
   "id": "d8112d6f",
   "metadata": {
    "papermill": {
     "duration": 0.022672,
     "end_time": "2022-08-20T12:12:00.038305",
     "exception": false,
     "start_time": "2022-08-20T12:12:00.015633",
     "status": "completed"
    },
    "tags": []
   },
   "source": [
    "---\n",
    "**Importing Libraries:**\n",
    "* To get started we will use Python for data pre-processing and model building.\n",
    "* Import python libraries as necessary to get started for data load and later import other libraries as needed\n",
    "---"
   ]
  },
  {
   "cell_type": "code",
   "execution_count": 1,
   "id": "0df89026",
   "metadata": {
    "_kg_hide-input": true,
    "execution": {
     "iopub.execute_input": "2022-08-20T12:12:00.085243Z",
     "iopub.status.busy": "2022-08-20T12:12:00.084742Z",
     "iopub.status.idle": "2022-08-20T12:12:02.691289Z",
     "shell.execute_reply": "2022-08-20T12:12:02.689512Z"
    },
    "papermill": {
     "duration": 2.633884,
     "end_time": "2022-08-20T12:12:02.694588",
     "exception": false,
     "start_time": "2022-08-20T12:12:00.060704",
     "status": "completed"
    },
    "tags": []
   },
   "outputs": [],
   "source": [
    "import numpy as np \n",
    "# data processing, CSV file I/O \n",
    "import pandas as pd \n",
    "# data processing, CSV file I/O\n",
    "import dask.dataframe as dd\n",
    "# module finds all the pathnames matching a specified pattern\n",
    "import glob \n",
    "import os\n",
    "# importing pyplot interface using matplotlib\n",
    "import matplotlib.pyplot as plt \n",
    "# importing seaborn library for interactive visualization\n",
    "import seaborn as sns \n",
    "# Importing WordCloud for text data visualization\n",
    "from wordcloud import WordCloud\n",
    "# importing matplotlib for plots\n",
    "import matplotlib\n",
    "# importing datetime for using datetime\n",
    "from datetime import datetime\n",
    "# importing plotly for interactive plots\n",
    "import plotly.express as px\n",
    "# importing missingno for missing value plot\n",
    "import missingno as msno\n",
    "# importing regex library for use of regex\n",
    "import re\n",
    "# importing Counter for counting :)\n",
    "from collections import Counter\n",
    "\n",
    "import plotly.graph_objs as go"
   ]
  },
  {
   "cell_type": "code",
   "execution_count": 2,
   "id": "39de6760",
   "metadata": {
    "_kg_hide-input": true,
    "execution": {
     "iopub.execute_input": "2022-08-20T12:12:02.741021Z",
     "iopub.status.busy": "2022-08-20T12:12:02.740478Z",
     "iopub.status.idle": "2022-08-20T12:12:03.338644Z",
     "shell.execute_reply": "2022-08-20T12:12:03.337147Z"
    },
    "papermill": {
     "duration": 0.62484,
     "end_time": "2022-08-20T12:12:03.341610",
     "exception": false,
     "start_time": "2022-08-20T12:12:02.716770",
     "status": "completed"
    },
    "tags": []
   },
   "outputs": [],
   "source": [
    "# importing SimpleImputer for handling missing value\n",
    "from sklearn.impute import SimpleImputer\n",
    "# importing MissingIndicator for handling missing value\n",
    "from sklearn.impute import MissingIndicator\n",
    "# importing StandardScaler for standardization\n",
    "from sklearn.preprocessing import StandardScaler\n",
    "# importing OnHotEncoder for encoding categorical variable\n",
    "from sklearn.preprocessing import OneHotEncoder\n",
    "# importing for transformation\n",
    "from sklearn.compose import ColumnTransformer\n",
    "from sklearn.compose import make_column_transformer\n",
    "from sklearn.compose import make_column_selector\n",
    "# importing PCA for handling dimensonality reduction\n",
    "from sklearn.decomposition import PCA\n",
    "\n",
    "# importing pipeline for chaining model building activities\n",
    "#from sklearn.pipeline import Pipeline\n",
    "#from sklearn.pipeline import make_pipeline\n",
    "from imblearn.pipeline import Pipeline\n",
    "from imblearn.pipeline import make_pipeline as mp\n",
    "# importing FeatureUnion for combining transformers\n",
    "from sklearn.pipeline import FeatureUnion\n",
    "\n",
    "# importing samplers for handling data imbalance\n",
    "from imblearn.combine import SMOTEENN \n",
    "from imblearn.over_sampling import SMOTE\n",
    "from imblearn.over_sampling import RandomOverSampler \n",
    "from imblearn.under_sampling import RandomUnderSampler \n",
    "\n",
    "# importing train_test_split for train and validation split\n",
    "from sklearn.model_selection import train_test_split\n",
    "# importing SelectFromModel to select features from model \n",
    "from sklearn.feature_selection import SelectFromModel               "
   ]
  },
  {
   "cell_type": "code",
   "execution_count": 3,
   "id": "406c9f1b",
   "metadata": {
    "_kg_hide-input": true,
    "execution": {
     "iopub.execute_input": "2022-08-20T12:12:03.387847Z",
     "iopub.status.busy": "2022-08-20T12:12:03.387060Z",
     "iopub.status.idle": "2022-08-20T12:12:03.999008Z",
     "shell.execute_reply": "2022-08-20T12:12:03.997618Z"
    },
    "papermill": {
     "duration": 0.638694,
     "end_time": "2022-08-20T12:12:04.002208",
     "exception": false,
     "start_time": "2022-08-20T12:12:03.363514",
     "status": "completed"
    },
    "tags": []
   },
   "outputs": [
    {
     "data": {
      "text/html": [
       "<style type='text/css'>\n",
       ".datatable table.frame { margin-bottom: 0; }\n",
       ".datatable table.frame thead { border-bottom: none; }\n",
       ".datatable table.frame tr.coltypes td {  color: #FFFFFF;  line-height: 6px;  padding: 0 0.5em;}\n",
       ".datatable .bool    { background: #DDDD99; }\n",
       ".datatable .object  { background: #565656; }\n",
       ".datatable .int     { background: #5D9E5D; }\n",
       ".datatable .float   { background: #4040CC; }\n",
       ".datatable .str     { background: #CC4040; }\n",
       ".datatable .time    { background: #40CC40; }\n",
       ".datatable .row_index {  background: var(--jp-border-color3);  border-right: 1px solid var(--jp-border-color0);  color: var(--jp-ui-font-color3);  font-size: 9px;}\n",
       ".datatable .frame tbody td { text-align: left; }\n",
       ".datatable .frame tr.coltypes .row_index {  background: var(--jp-border-color0);}\n",
       ".datatable th:nth-child(2) { padding-left: 12px; }\n",
       ".datatable .hellipsis {  color: var(--jp-cell-editor-border-color);}\n",
       ".datatable .vellipsis {  background: var(--jp-layout-color0);  color: var(--jp-cell-editor-border-color);}\n",
       ".datatable .na {  color: var(--jp-cell-editor-border-color);  font-size: 80%;}\n",
       ".datatable .sp {  opacity: 0.25;}\n",
       ".datatable .footer { font-size: 9px; }\n",
       ".datatable .frame_dimensions {  background: var(--jp-border-color3);  border-top: 1px solid var(--jp-border-color0);  color: var(--jp-ui-font-color3);  display: inline-block;  opacity: 0.6;  padding: 1px 10px 1px 5px;}\n",
       "</style>\n"
      ],
      "text/plain": [
       "<IPython.core.display.HTML object>"
      ]
     },
     "metadata": {},
     "output_type": "display_data"
    }
   ],
   "source": [
    "# importing classifiers to try with\n",
    "from sklearn.linear_model import LogisticRegression\n",
    "from sklearn.tree import DecisionTreeClassifier\n",
    "from sklearn.ensemble import RandomForestClassifier\n",
    "from sklearn.naive_bayes import GaussianNB\n",
    "from sklearn.neighbors import KNeighborsClassifier\n",
    "from sklearn.ensemble import AdaBoostClassifier\n",
    "from sklearn.ensemble import GradientBoostingClassifier\n",
    "from xgboost import XGBClassifier\n",
    "from lightgbm import LGBMClassifier\n",
    "from catboost import CatBoostClassifier\n",
    "\n",
    "# importing metrics required for model evaluation\n",
    "from sklearn.metrics import accuracy_score\n",
    "from sklearn.metrics import precision_score\n",
    "from sklearn.metrics import recall_score\n",
    "from sklearn.metrics import f1_score\n",
    "from sklearn.metrics import classification_report\n",
    "from sklearn.metrics import make_scorer\n",
    "from sklearn.metrics import confusion_matrix\n",
    "from sklearn.metrics import ConfusionMatrixDisplay\n",
    "\n",
    "# importing RepeatedKFold for cross validation\n",
    "from sklearn.model_selection import RepeatedKFold\n",
    "# importing for model evaluation\n",
    "from sklearn.model_selection import cross_validate\n",
    "from sklearn.model_selection import cross_val_predict\n",
    "from sklearn.model_selection import cross_val_score\n",
    "from sklearn.model_selection import validation_curve\n",
    "# importing RepeatedStratifiedKFold for model evaluation\n",
    "from sklearn.model_selection import RepeatedStratifiedKFold\n",
    "# importing GridSearchCV for hyperparameter tuning\n",
    "from sklearn.model_selection import GridSearchCV\n",
    "from sklearn.model_selection import RandomizedSearchCV\n",
    "from yellowbrick.model_selection import ValidationCurve"
   ]
  },
  {
   "cell_type": "markdown",
   "id": "fe7ecd94",
   "metadata": {
    "papermill": {
     "duration": 0.021593,
     "end_time": "2022-08-20T12:12:04.046821",
     "exception": false,
     "start_time": "2022-08-20T12:12:04.025228",
     "status": "completed"
    },
    "tags": []
   },
   "source": [
    "---\n",
    "# Dataset Load\n",
    "---"
   ]
  },
  {
   "cell_type": "markdown",
   "id": "a2eac515",
   "metadata": {
    "papermill": {
     "duration": 0.021287,
     "end_time": "2022-08-20T12:12:04.089896",
     "exception": false,
     "start_time": "2022-08-20T12:12:04.068609",
     "status": "completed"
    },
    "tags": []
   },
   "source": [
    "**Dataset:**\n",
    "\n",
    "* **train_data.csv** - training data with multiple statement dates per customer_ID\n",
    "* **train_labels.csv** - target label for each customer_ID\n",
    "* **test_data.csv** - corresponding test data; objective is to predict the target label for each customer_ID\n",
    "* **sample_submission.csv** - a sample submission file in the correct format\n",
    "\n",
    "---"
   ]
  },
  {
   "cell_type": "markdown",
   "id": "fcb54bc9",
   "metadata": {
    "papermill": {
     "duration": 0.021583,
     "end_time": "2022-08-20T12:12:04.133254",
     "exception": false,
     "start_time": "2022-08-20T12:12:04.111671",
     "status": "completed"
    },
    "tags": []
   },
   "source": [
    "Let us check size of dataset CSV file"
   ]
  },
  {
   "cell_type": "code",
   "execution_count": 4,
   "id": "a275c160",
   "metadata": {
    "_kg_hide-input": true,
    "execution": {
     "iopub.execute_input": "2022-08-20T12:12:04.179994Z",
     "iopub.status.busy": "2022-08-20T12:12:04.179611Z",
     "iopub.status.idle": "2022-08-20T12:12:04.193623Z",
     "shell.execute_reply": "2022-08-20T12:12:04.191181Z"
    },
    "papermill": {
     "duration": 0.040318,
     "end_time": "2022-08-20T12:12:04.196516",
     "exception": false,
     "start_time": "2022-08-20T12:12:04.156198",
     "status": "completed"
    },
    "tags": []
   },
   "outputs": [
    {
     "name": "stdout",
     "output_type": "stream",
     "text": [
      "/kaggle/input/amex-default-prediction/sample_submission.csv size is 59.1 MB bytes\n",
      "/kaggle/input/amex-default-prediction/train_data.csv size is 15.3 GB bytes\n",
      "/kaggle/input/amex-default-prediction/test_data.csv size is 31.5 GB bytes\n",
      "/kaggle/input/amex-default-prediction/train_labels.csv size is 29.3 MB bytes\n"
     ]
    }
   ],
   "source": [
    "# calculate file size in KB, MB, GB\n",
    "def convert_bytes(size):\n",
    "    \"\"\" Convert bytes to KB, or MB or GB\"\"\"\n",
    "    for x in ['bytes', 'KB', 'MB', 'GB', 'TB']:\n",
    "        if size < 1024.0:\n",
    "            return \"%3.1f %s\" % (size, x)\n",
    "        size /= 1024.0\n",
    "\n",
    "# display CSV file with size\n",
    "for dirname, _, filenames in os.walk('/kaggle/input'):\n",
    "    for filename in filenames:\n",
    "        csvfile=os.path.join(dirname, filename)\n",
    "        csvfilesize = os.path.getsize(csvfile)\n",
    "        filesize = convert_bytes(csvfilesize)\n",
    "        print(f'{csvfile} size is', filesize, 'bytes')"
   ]
  },
  {
   "cell_type": "code",
   "execution_count": 5,
   "id": "6dec62a7",
   "metadata": {
    "_kg_hide-input": true,
    "execution": {
     "iopub.execute_input": "2022-08-20T12:12:04.244701Z",
     "iopub.status.busy": "2022-08-20T12:12:04.244266Z",
     "iopub.status.idle": "2022-08-20T12:12:04.249338Z",
     "shell.execute_reply": "2022-08-20T12:12:04.248027Z"
    },
    "papermill": {
     "duration": 0.031963,
     "end_time": "2022-08-20T12:12:04.251952",
     "exception": false,
     "start_time": "2022-08-20T12:12:04.219989",
     "status": "completed"
    },
    "tags": []
   },
   "outputs": [],
   "source": [
    "from pathlib import Path\n",
    "\n",
    "input_path = Path('/kaggle/input/amex-default-prediction/')"
   ]
  },
  {
   "cell_type": "markdown",
   "id": "41e491fc",
   "metadata": {
    "papermill": {
     "duration": 0.021741,
     "end_time": "2022-08-20T12:12:04.296171",
     "exception": false,
     "start_time": "2022-08-20T12:12:04.274430",
     "status": "completed"
    },
    "tags": []
   },
   "source": [
    "---\n",
    "Considering large number of rows around 5.5 million in **train_data.csv** dataset, using nrows option to load first 100k rows from dataset file for Model building.\n",
    "\n",
    "---"
   ]
  },
  {
   "cell_type": "markdown",
   "id": "70f3ae8e",
   "metadata": {
    "papermill": {
     "duration": 0.021845,
     "end_time": "2022-08-20T12:12:04.384385",
     "exception": false,
     "start_time": "2022-08-20T12:12:04.362540",
     "status": "completed"
    },
    "tags": []
   },
   "source": [
    "Load train_data.csv dataset file using nrows=100000"
   ]
  },
  {
   "cell_type": "code",
   "execution_count": 6,
   "id": "f79f50c8",
   "metadata": {
    "_kg_hide-input": true,
    "execution": {
     "iopub.execute_input": "2022-08-20T12:12:04.430453Z",
     "iopub.status.busy": "2022-08-20T12:12:04.429961Z",
     "iopub.status.idle": "2022-08-20T12:12:11.070000Z",
     "shell.execute_reply": "2022-08-20T12:12:11.068770Z"
    },
    "papermill": {
     "duration": 6.66626,
     "end_time": "2022-08-20T12:12:11.072883",
     "exception": false,
     "start_time": "2022-08-20T12:12:04.406623",
     "status": "completed"
    },
    "tags": []
   },
   "outputs": [],
   "source": [
    "# Loading dataset train_data.csv\n",
    "train_df_sample = pd.read_csv('../input/amex-default-prediction/train_data.csv', nrows=100000)"
   ]
  },
  {
   "cell_type": "code",
   "execution_count": 7,
   "id": "a7619ee2",
   "metadata": {
    "_kg_hide-input": true,
    "execution": {
     "iopub.execute_input": "2022-08-20T12:12:11.120318Z",
     "iopub.status.busy": "2022-08-20T12:12:11.118802Z",
     "iopub.status.idle": "2022-08-20T12:12:11.294308Z",
     "shell.execute_reply": "2022-08-20T12:12:11.292120Z"
    },
    "papermill": {
     "duration": 0.20243,
     "end_time": "2022-08-20T12:12:11.297592",
     "exception": false,
     "start_time": "2022-08-20T12:12:11.095162",
     "status": "completed"
    },
    "tags": []
   },
   "outputs": [
    {
     "name": "stdout",
     "output_type": "stream",
     "text": [
      "Shape of dataset is: (100000, 190)\n",
      "<class 'pandas.core.frame.DataFrame'>\n",
      "RangeIndex: 100000 entries, 0 to 99999\n",
      "Columns: 190 entries, customer_ID to D_145\n",
      "dtypes: float64(185), int64(1), object(4)\n",
      "memory usage: 145.0+ MB\n"
     ]
    }
   ],
   "source": [
    "# get shape of dataframe\n",
    "print('Shape of dataset is:', train_df_sample.shape)\n",
    "\n",
    "# print summary of dataframe\n",
    "train_df_sample.info()"
   ]
  },
  {
   "cell_type": "markdown",
   "id": "923afada",
   "metadata": {
    "papermill": {
     "duration": 0.021918,
     "end_time": "2022-08-20T12:12:11.342162",
     "exception": false,
     "start_time": "2022-08-20T12:12:11.320244",
     "status": "completed"
    },
    "tags": []
   },
   "source": [
    "**Observations:**\n",
    "\n",
    "* There are total 190 variables in train_data.csv dataset\n",
    "    * There are 185 variables(Columns) as dtype float64, 1 variable(Column) as dtype int64 and 4 variables(Columns) as dtype object"
   ]
  },
  {
   "cell_type": "markdown",
   "id": "a7966133",
   "metadata": {
    "papermill": {
     "duration": 0.02167,
     "end_time": "2022-08-20T12:12:11.386554",
     "exception": false,
     "start_time": "2022-08-20T12:12:11.364884",
     "status": "completed"
    },
    "tags": []
   },
   "source": [
    "---\n",
    "Need to load **train_labels.csv** for customer_ID with target label as 1 for Default and 0 for Not Default\n",
    "\n",
    "---"
   ]
  },
  {
   "cell_type": "code",
   "execution_count": 8,
   "id": "8c12ae09",
   "metadata": {
    "_kg_hide-input": true,
    "execution": {
     "iopub.execute_input": "2022-08-20T12:12:11.433908Z",
     "iopub.status.busy": "2022-08-20T12:12:11.433087Z",
     "iopub.status.idle": "2022-08-20T12:12:12.369567Z",
     "shell.execute_reply": "2022-08-20T12:12:12.368034Z"
    },
    "papermill": {
     "duration": 0.964006,
     "end_time": "2022-08-20T12:12:12.372747",
     "exception": false,
     "start_time": "2022-08-20T12:12:11.408741",
     "status": "completed"
    },
    "tags": []
   },
   "outputs": [],
   "source": [
    "# Loading dataset train_labels.csv\n",
    "train_label_df = pd.read_csv('../input/amex-default-prediction/train_labels.csv')"
   ]
  },
  {
   "cell_type": "code",
   "execution_count": 9,
   "id": "8edb9098",
   "metadata": {
    "_kg_hide-input": true,
    "execution": {
     "iopub.execute_input": "2022-08-20T12:12:12.420990Z",
     "iopub.status.busy": "2022-08-20T12:12:12.420547Z",
     "iopub.status.idle": "2022-08-20T12:12:12.463894Z",
     "shell.execute_reply": "2022-08-20T12:12:12.461638Z"
    },
    "papermill": {
     "duration": 0.070544,
     "end_time": "2022-08-20T12:12:12.466647",
     "exception": false,
     "start_time": "2022-08-20T12:12:12.396103",
     "status": "completed"
    },
    "tags": []
   },
   "outputs": [
    {
     "name": "stdout",
     "output_type": "stream",
     "text": [
      "Shape of dataset is: (458913, 2)\n",
      "<class 'pandas.core.frame.DataFrame'>\n",
      "RangeIndex: 458913 entries, 0 to 458912\n",
      "Data columns (total 2 columns):\n",
      " #   Column       Non-Null Count   Dtype \n",
      "---  ------       --------------   ----- \n",
      " 0   customer_ID  458913 non-null  object\n",
      " 1   target       458913 non-null  int64 \n",
      "dtypes: int64(1), object(1)\n",
      "memory usage: 7.0+ MB\n"
     ]
    }
   ],
   "source": [
    "# get shape of dataframe\n",
    "print('Shape of dataset is:', train_label_df.shape)\n",
    "\n",
    "# print summary of dataframe\n",
    "train_label_df.info()"
   ]
  },
  {
   "cell_type": "markdown",
   "id": "b84f67e1",
   "metadata": {
    "papermill": {
     "duration": 0.022041,
     "end_time": "2022-08-20T12:12:12.511125",
     "exception": false,
     "start_time": "2022-08-20T12:12:12.489084",
     "status": "completed"
    },
    "tags": []
   },
   "source": [
    "**Observations:**\n",
    "\n",
    "* There are total 458,913 entries for target label with customer_ID\n",
    "* There is variable (column) customer_ID which has dtype as object and variable (column) target which has dtype as int64"
   ]
  },
  {
   "cell_type": "markdown",
   "id": "dd3d6f0e",
   "metadata": {
    "papermill": {
     "duration": 0.021945,
     "end_time": "2022-08-20T12:12:12.555566",
     "exception": false,
     "start_time": "2022-08-20T12:12:12.533621",
     "status": "completed"
    },
    "tags": []
   },
   "source": [
    "---\n",
    "Using nrows option to load first 100k rows from **test_data.csv** dataset file. Set customer_ID as index.\n",
    "\n",
    "---"
   ]
  },
  {
   "cell_type": "code",
   "execution_count": 10,
   "id": "edcccf97",
   "metadata": {
    "_kg_hide-input": true,
    "execution": {
     "iopub.execute_input": "2022-08-20T12:12:12.602455Z",
     "iopub.status.busy": "2022-08-20T12:12:12.601975Z",
     "iopub.status.idle": "2022-08-20T12:12:19.437057Z",
     "shell.execute_reply": "2022-08-20T12:12:19.435716Z"
    },
    "papermill": {
     "duration": 6.86234,
     "end_time": "2022-08-20T12:12:19.440255",
     "exception": false,
     "start_time": "2022-08-20T12:12:12.577915",
     "status": "completed"
    },
    "tags": []
   },
   "outputs": [],
   "source": [
    "# Loading dataset test_data.csv\n",
    "test_df = pd.read_csv('../input/amex-default-prediction/test_data.csv', nrows=100000, index_col='customer_ID')"
   ]
  },
  {
   "cell_type": "code",
   "execution_count": 11,
   "id": "ba78a79e",
   "metadata": {
    "_kg_hide-input": true,
    "execution": {
     "iopub.execute_input": "2022-08-20T12:12:19.488053Z",
     "iopub.status.busy": "2022-08-20T12:12:19.487580Z",
     "iopub.status.idle": "2022-08-20T12:12:19.516215Z",
     "shell.execute_reply": "2022-08-20T12:12:19.514273Z"
    },
    "papermill": {
     "duration": 0.056453,
     "end_time": "2022-08-20T12:12:19.519833",
     "exception": false,
     "start_time": "2022-08-20T12:12:19.463380",
     "status": "completed"
    },
    "tags": []
   },
   "outputs": [
    {
     "name": "stdout",
     "output_type": "stream",
     "text": [
      "Shape of dataset is: (100000, 189)\n",
      "<class 'pandas.core.frame.DataFrame'>\n",
      "Index: 100000 entries, 00000469ba478561f23a92a868bd366de6f6527a684c9a2e78fb826dcac3b9b7 to 0246c7eb137ed9b08014d66e29caf1772b0512becef11a1eda0948b8b8908576\n",
      "Columns: 189 entries, S_2 to D_145\n",
      "dtypes: float64(185), int64(1), object(3)\n",
      "memory usage: 145.0+ MB\n"
     ]
    }
   ],
   "source": [
    "# get shape of dataframe\n",
    "print('Shape of dataset is:', test_df.shape)\n",
    "\n",
    "# print summary of dataframe\n",
    "#test_df.info(verbose=True)\n",
    "test_df.info()"
   ]
  },
  {
   "cell_type": "markdown",
   "id": "f474d8f1",
   "metadata": {
    "papermill": {
     "duration": 0.034939,
     "end_time": "2022-08-20T12:12:19.580898",
     "exception": false,
     "start_time": "2022-08-20T12:12:19.545959",
     "status": "completed"
    },
    "tags": []
   },
   "source": [
    "**Observation:**\n",
    "\n",
    "* There are 185 variables(Columns) as dtype float64, 1 variable(Column) as dtype int64 and 4 variables(Columns) as dtype object, same structure as train_data.csv"
   ]
  },
  {
   "cell_type": "markdown",
   "id": "15cd93f9",
   "metadata": {
    "papermill": {
     "duration": 0.025326,
     "end_time": "2022-08-20T12:12:19.638200",
     "exception": false,
     "start_time": "2022-08-20T12:12:19.612874",
     "status": "completed"
    },
    "tags": []
   },
   "source": [
    "---\n",
    "Need to merge train_labels dataset with train_data dataset for target label.\n",
    "\n",
    "---"
   ]
  },
  {
   "cell_type": "code",
   "execution_count": 12,
   "id": "57d4d06e",
   "metadata": {
    "_kg_hide-input": true,
    "execution": {
     "iopub.execute_input": "2022-08-20T12:12:19.688505Z",
     "iopub.status.busy": "2022-08-20T12:12:19.687976Z",
     "iopub.status.idle": "2022-08-20T12:12:20.248416Z",
     "shell.execute_reply": "2022-08-20T12:12:20.246846Z"
    },
    "papermill": {
     "duration": 0.589149,
     "end_time": "2022-08-20T12:12:20.252525",
     "exception": false,
     "start_time": "2022-08-20T12:12:19.663376",
     "status": "completed"
    },
    "tags": []
   },
   "outputs": [],
   "source": [
    "# Merge of train_df_sample and train_label_df dataframe using key as customer_ID\n",
    "train_df = pd.merge(train_df_sample, train_label_df, how=\"inner\", on=[\"customer_ID\"])"
   ]
  },
  {
   "cell_type": "code",
   "execution_count": 13,
   "id": "e60e391c",
   "metadata": {
    "_kg_hide-input": true,
    "execution": {
     "iopub.execute_input": "2022-08-20T12:12:20.306606Z",
     "iopub.status.busy": "2022-08-20T12:12:20.305588Z",
     "iopub.status.idle": "2022-08-20T12:12:20.326693Z",
     "shell.execute_reply": "2022-08-20T12:12:20.325326Z"
    },
    "papermill": {
     "duration": 0.049246,
     "end_time": "2022-08-20T12:12:20.329502",
     "exception": false,
     "start_time": "2022-08-20T12:12:20.280256",
     "status": "completed"
    },
    "tags": []
   },
   "outputs": [
    {
     "name": "stdout",
     "output_type": "stream",
     "text": [
      "<class 'pandas.core.frame.DataFrame'>\n",
      "Int64Index: 100000 entries, 0 to 99999\n",
      "Columns: 191 entries, customer_ID to target\n",
      "dtypes: float64(185), int64(2), object(4)\n",
      "memory usage: 146.5+ MB\n"
     ]
    }
   ],
   "source": [
    "# print summary of merged dataframe\n",
    "train_df.info()"
   ]
  },
  {
   "cell_type": "markdown",
   "id": "26a3bbab",
   "metadata": {
    "papermill": {
     "duration": 0.031127,
     "end_time": "2022-08-20T12:12:20.384684",
     "exception": false,
     "start_time": "2022-08-20T12:12:20.353557",
     "status": "completed"
    },
    "tags": []
   },
   "source": [
    "Drop customer_ID and S_2 variable in train_data and drop S_2 variable in test_data which are not required for ML model building"
   ]
  },
  {
   "cell_type": "code",
   "execution_count": 14,
   "id": "0dc4bd76",
   "metadata": {
    "_kg_hide-input": true,
    "execution": {
     "iopub.execute_input": "2022-08-20T12:12:20.456909Z",
     "iopub.status.busy": "2022-08-20T12:12:20.455192Z",
     "iopub.status.idle": "2022-08-20T12:12:20.745599Z",
     "shell.execute_reply": "2022-08-20T12:12:20.744466Z"
    },
    "papermill": {
     "duration": 0.330592,
     "end_time": "2022-08-20T12:12:20.748828",
     "exception": false,
     "start_time": "2022-08-20T12:12:20.418236",
     "status": "completed"
    },
    "tags": []
   },
   "outputs": [],
   "source": [
    "#drop customer_ID and S_2 from train_df dataframe which are not required for model building\n",
    "train_df.drop(axis=1, columns=['customer_ID','S_2'], inplace=True)"
   ]
  },
  {
   "cell_type": "code",
   "execution_count": 15,
   "id": "cee34c87",
   "metadata": {
    "_kg_hide-input": true,
    "execution": {
     "iopub.execute_input": "2022-08-20T12:12:20.798661Z",
     "iopub.status.busy": "2022-08-20T12:12:20.797902Z",
     "iopub.status.idle": "2022-08-20T12:12:20.882745Z",
     "shell.execute_reply": "2022-08-20T12:12:20.881751Z"
    },
    "papermill": {
     "duration": 0.113366,
     "end_time": "2022-08-20T12:12:20.885604",
     "exception": false,
     "start_time": "2022-08-20T12:12:20.772238",
     "status": "completed"
    },
    "tags": []
   },
   "outputs": [],
   "source": [
    "#drop S_2 in test_df dataframe which is not required for model building\n",
    "test_df.drop(axis=1, columns=['S_2'], inplace=True)"
   ]
  },
  {
   "cell_type": "markdown",
   "id": "0ad8bca6",
   "metadata": {
    "papermill": {
     "duration": 0.022545,
     "end_time": "2022-08-20T12:12:20.931126",
     "exception": false,
     "start_time": "2022-08-20T12:12:20.908581",
     "status": "completed"
    },
    "tags": []
   },
   "source": [
    "---\n",
    "**Q: Is there any duplicate row in train dataset sample?**\n",
    "\n",
    "---"
   ]
  },
  {
   "cell_type": "code",
   "execution_count": 16,
   "id": "1486abbe",
   "metadata": {
    "_kg_hide-input": true,
    "execution": {
     "iopub.execute_input": "2022-08-20T12:12:20.981610Z",
     "iopub.status.busy": "2022-08-20T12:12:20.980873Z",
     "iopub.status.idle": "2022-08-20T12:12:22.985090Z",
     "shell.execute_reply": "2022-08-20T12:12:22.983370Z"
    },
    "papermill": {
     "duration": 2.033522,
     "end_time": "2022-08-20T12:12:22.988319",
     "exception": false,
     "start_time": "2022-08-20T12:12:20.954797",
     "status": "completed"
    },
    "tags": []
   },
   "outputs": [
    {
     "name": "stdout",
     "output_type": "stream",
     "text": [
      "No\n"
     ]
    }
   ],
   "source": [
    "#check if any duplicate row\n",
    "if (any(train_df.duplicated())):\n",
    "    print(\"Yes\")\n",
    "else:\n",
    "    print(\"No\")"
   ]
  },
  {
   "cell_type": "markdown",
   "id": "08fb3209",
   "metadata": {
    "papermill": {
     "duration": 0.022607,
     "end_time": "2022-08-20T12:12:23.034910",
     "exception": false,
     "start_time": "2022-08-20T12:12:23.012303",
     "status": "completed"
    },
    "tags": []
   },
   "source": [
    "---\n",
    "**Q: Is there any duplicate row in test dataset sample?**\n",
    "\n",
    "---"
   ]
  },
  {
   "cell_type": "code",
   "execution_count": 17,
   "id": "5e81438e",
   "metadata": {
    "_kg_hide-input": true,
    "execution": {
     "iopub.execute_input": "2022-08-20T12:12:23.082889Z",
     "iopub.status.busy": "2022-08-20T12:12:23.082457Z",
     "iopub.status.idle": "2022-08-20T12:12:24.996925Z",
     "shell.execute_reply": "2022-08-20T12:12:24.995920Z"
    },
    "papermill": {
     "duration": 1.941236,
     "end_time": "2022-08-20T12:12:24.999651",
     "exception": false,
     "start_time": "2022-08-20T12:12:23.058415",
     "status": "completed"
    },
    "tags": []
   },
   "outputs": [
    {
     "name": "stdout",
     "output_type": "stream",
     "text": [
      "No\n"
     ]
    }
   ],
   "source": [
    "#check if any duplicate row in test dataset\n",
    "if (any(test_df.duplicated())):\n",
    "    print(\"Yes\")\n",
    "else:\n",
    "    print(\"No\")"
   ]
  },
  {
   "cell_type": "markdown",
   "id": "33b885e2",
   "metadata": {
    "papermill": {
     "duration": 0.021778,
     "end_time": "2022-08-20T12:12:25.044364",
     "exception": false,
     "start_time": "2022-08-20T12:12:25.022586",
     "status": "completed"
    },
    "tags": []
   },
   "source": [
    "---\n",
    "**Q: Are there any missing value in train dataset sample?**\n",
    "\n",
    "---"
   ]
  },
  {
   "cell_type": "code",
   "execution_count": 18,
   "id": "3b05676a",
   "metadata": {
    "_kg_hide-input": true,
    "execution": {
     "iopub.execute_input": "2022-08-20T12:12:25.091758Z",
     "iopub.status.busy": "2022-08-20T12:12:25.091043Z",
     "iopub.status.idle": "2022-08-20T12:12:25.154136Z",
     "shell.execute_reply": "2022-08-20T12:12:25.151961Z"
    },
    "papermill": {
     "duration": 0.091968,
     "end_time": "2022-08-20T12:12:25.158919",
     "exception": false,
     "start_time": "2022-08-20T12:12:25.066951",
     "status": "completed"
    },
    "tags": []
   },
   "outputs": [
    {
     "name": "stdout",
     "output_type": "stream",
     "text": [
      "Yes\n"
     ]
    }
   ],
   "source": [
    "# Check for missing value\n",
    "if(any(train_df.isna().sum())):\n",
    "    print(\"Yes\")\n",
    "else:\n",
    "    print(\"No\")"
   ]
  },
  {
   "cell_type": "markdown",
   "id": "6cc2da13",
   "metadata": {
    "papermill": {
     "duration": 0.024061,
     "end_time": "2022-08-20T12:12:25.207930",
     "exception": false,
     "start_time": "2022-08-20T12:12:25.183869",
     "status": "completed"
    },
    "tags": []
   },
   "source": [
    "---\n",
    "**Q: Are there any missing value in train dataset sample?**\n",
    "\n",
    "---"
   ]
  },
  {
   "cell_type": "code",
   "execution_count": 19,
   "id": "47fbf3de",
   "metadata": {
    "_kg_hide-input": true,
    "execution": {
     "iopub.execute_input": "2022-08-20T12:12:25.255988Z",
     "iopub.status.busy": "2022-08-20T12:12:25.255547Z",
     "iopub.status.idle": "2022-08-20T12:12:25.316050Z",
     "shell.execute_reply": "2022-08-20T12:12:25.314810Z"
    },
    "papermill": {
     "duration": 0.087906,
     "end_time": "2022-08-20T12:12:25.318966",
     "exception": false,
     "start_time": "2022-08-20T12:12:25.231060",
     "status": "completed"
    },
    "tags": []
   },
   "outputs": [
    {
     "name": "stdout",
     "output_type": "stream",
     "text": [
      "Yes\n"
     ]
    }
   ],
   "source": [
    "# Check for missing value in test dataset\n",
    "if(any(test_df.isna().sum())):\n",
    "    print(\"Yes\")\n",
    "else:\n",
    "    print(\"No\")"
   ]
  },
  {
   "cell_type": "markdown",
   "id": "1b943e21",
   "metadata": {
    "papermill": {
     "duration": 0.022046,
     "end_time": "2022-08-20T12:12:25.363643",
     "exception": false,
     "start_time": "2022-08-20T12:12:25.341597",
     "status": "completed"
    },
    "tags": []
   },
   "source": [
    "---\n",
    "# Data Preprocessing\n",
    "\n",
    "---"
   ]
  },
  {
   "cell_type": "markdown",
   "id": "c124ba48",
   "metadata": {
    "papermill": {
     "duration": 0.021791,
     "end_time": "2022-08-20T12:12:25.408280",
     "exception": false,
     "start_time": "2022-08-20T12:12:25.386489",
     "status": "completed"
    },
    "tags": []
   },
   "source": [
    "---\n",
    "**Handle Variable with Missing Value**\n",
    "\n",
    "---"
   ]
  },
  {
   "cell_type": "markdown",
   "id": "a7c51a65",
   "metadata": {
    "papermill": {
     "duration": 0.022418,
     "end_time": "2022-08-20T12:12:25.452884",
     "exception": false,
     "start_time": "2022-08-20T12:12:25.430466",
     "status": "completed"
    },
    "tags": []
   },
   "source": [
    "---\n",
    "Drop Variables with Missing Value (>=75%) in train dataset\n",
    "\n",
    "---"
   ]
  },
  {
   "cell_type": "code",
   "execution_count": 20,
   "id": "b3147b57",
   "metadata": {
    "_kg_hide-input": true,
    "execution": {
     "iopub.execute_input": "2022-08-20T12:12:25.502355Z",
     "iopub.status.busy": "2022-08-20T12:12:25.500540Z",
     "iopub.status.idle": "2022-08-20T12:12:27.235687Z",
     "shell.execute_reply": "2022-08-20T12:12:27.233650Z"
    },
    "papermill": {
     "duration": 1.763246,
     "end_time": "2022-08-20T12:12:27.238347",
     "exception": false,
     "start_time": "2022-08-20T12:12:25.475101",
     "status": "completed"
    },
    "tags": []
   },
   "outputs": [
    {
     "name": "stdout",
     "output_type": "stream",
     "text": [
      "Dropping column D_42\n",
      "Dropping column D_49\n",
      "Dropping column D_66\n",
      "Dropping column D_73\n",
      "Dropping column D_76\n",
      "Dropping column R_9\n",
      "Dropping column B_29\n",
      "Dropping column D_87\n",
      "Dropping column D_88\n",
      "Dropping column D_106\n",
      "Dropping column R_26\n",
      "Dropping column D_108\n",
      "Dropping column D_110\n",
      "Dropping column D_111\n",
      "Dropping column B_39\n",
      "Dropping column B_42\n",
      "Dropping column D_132\n",
      "Dropping column D_134\n",
      "Dropping column D_135\n",
      "Dropping column D_136\n",
      "Dropping column D_137\n",
      "Dropping column D_138\n",
      "Dropping column D_142\n",
      "Total number of columns dropped in train dataframe 23\n"
     ]
    }
   ],
   "source": [
    "#drop variables with missing values >=75% in the train dataframe\n",
    "i=0\n",
    "for col in train_df.columns:\n",
    "    if (train_df[col].isnull().sum()/len(train_df[col])*100) >=75:\n",
    "        print(\"Dropping column\", col)\n",
    "        train_df.drop(labels=col,axis=1,inplace=True)\n",
    "        i=i+1\n",
    "        \n",
    "print(\"Total number of columns dropped in train dataframe\", i)"
   ]
  },
  {
   "cell_type": "markdown",
   "id": "45a68d09",
   "metadata": {
    "papermill": {
     "duration": 0.022628,
     "end_time": "2022-08-20T12:12:27.284112",
     "exception": false,
     "start_time": "2022-08-20T12:12:27.261484",
     "status": "completed"
    },
    "tags": []
   },
   "source": [
    "---\n",
    "Drop Variables with Missing Value (>=75%) in test dataset\n",
    "\n",
    "---"
   ]
  },
  {
   "cell_type": "code",
   "execution_count": 21,
   "id": "b0ff009b",
   "metadata": {
    "_kg_hide-input": true,
    "execution": {
     "iopub.execute_input": "2022-08-20T12:12:27.332516Z",
     "iopub.status.busy": "2022-08-20T12:12:27.332092Z",
     "iopub.status.idle": "2022-08-20T12:12:28.954975Z",
     "shell.execute_reply": "2022-08-20T12:12:28.953162Z"
    },
    "papermill": {
     "duration": 1.650298,
     "end_time": "2022-08-20T12:12:28.958190",
     "exception": false,
     "start_time": "2022-08-20T12:12:27.307892",
     "status": "completed"
    },
    "tags": []
   },
   "outputs": [
    {
     "name": "stdout",
     "output_type": "stream",
     "text": [
      "Dropping column D_42\n",
      "Dropping column D_49\n",
      "Dropping column D_66\n",
      "Dropping column D_73\n",
      "Dropping column D_76\n",
      "Dropping column R_9\n",
      "Dropping column B_29\n",
      "Dropping column D_87\n",
      "Dropping column D_88\n",
      "Dropping column D_106\n",
      "Dropping column R_26\n",
      "Dropping column D_108\n",
      "Dropping column D_110\n",
      "Dropping column D_111\n",
      "Dropping column B_39\n",
      "Dropping column B_42\n",
      "Dropping column D_132\n",
      "Dropping column D_134\n",
      "Dropping column D_135\n",
      "Dropping column D_136\n",
      "Dropping column D_137\n",
      "Dropping column D_138\n",
      "Dropping column D_142\n",
      "Total number of columns dropped in test dataframe 23\n"
     ]
    }
   ],
   "source": [
    "#drop variables with missing values >=75% in the test dataframe\n",
    "i=0\n",
    "for col in test_df.columns:\n",
    "    if (test_df[col].isnull().sum()/len(test_df[col])*100) >=75:\n",
    "        print(\"Dropping column\", col)\n",
    "        test_df.drop(labels=col,axis=1,inplace=True)\n",
    "        i=i+1\n",
    "        \n",
    "print(\"Total number of columns dropped in test dataframe\", i)"
   ]
  },
  {
   "cell_type": "markdown",
   "id": "e70364e6",
   "metadata": {
    "papermill": {
     "duration": 0.023815,
     "end_time": "2022-08-20T12:12:29.006331",
     "exception": false,
     "start_time": "2022-08-20T12:12:28.982516",
     "status": "completed"
    },
    "tags": []
   },
   "source": [
    "Converting categorical variable dtype from float64 to object in train and test dataset"
   ]
  },
  {
   "cell_type": "code",
   "execution_count": 22,
   "id": "d01a1c7f",
   "metadata": {
    "_kg_hide-input": true,
    "execution": {
     "iopub.execute_input": "2022-08-20T12:12:29.058288Z",
     "iopub.status.busy": "2022-08-20T12:12:29.057833Z",
     "iopub.status.idle": "2022-08-20T12:12:30.076091Z",
     "shell.execute_reply": "2022-08-20T12:12:30.074739Z"
    },
    "papermill": {
     "duration": 1.047687,
     "end_time": "2022-08-20T12:12:30.079210",
     "exception": false,
     "start_time": "2022-08-20T12:12:29.031523",
     "status": "completed"
    },
    "tags": []
   },
   "outputs": [],
   "source": [
    "#convert dtype for B categorical variable to object\n",
    "train_df = train_df.astype({\"B_30\": 'str', \"B_38\": 'str'})\n",
    "#convert dtype for B categorical variable to object\n",
    "test_df = test_df.astype({\"B_30\": 'str', \"B_38\": 'str'})\n",
    "#convert dtype for D categorical variable to object\n",
    "train_df = train_df.astype({\"D_114\": 'str', \"D_116\": 'str', \"D_117\": 'str', \"D_120\": 'str', \"D_126\": 'str', \"D_68\": 'str'})\n",
    "#convert dtype for D categorical variable to object\n",
    "test_df = test_df.astype({\"D_114\": 'str', \"D_116\": 'str', \"D_117\": 'str', \"D_120\": 'str', \"D_126\": 'str', \"D_68\": 'str'})"
   ]
  },
  {
   "cell_type": "markdown",
   "id": "c395e369",
   "metadata": {
    "papermill": {
     "duration": 0.024926,
     "end_time": "2022-08-20T12:12:30.129211",
     "exception": false,
     "start_time": "2022-08-20T12:12:30.104285",
     "status": "completed"
    },
    "tags": []
   },
   "source": [
    "Separate independent and dependent variable for train dataframe"
   ]
  },
  {
   "cell_type": "code",
   "execution_count": 23,
   "id": "5e4b030a",
   "metadata": {
    "_kg_hide-input": true,
    "execution": {
     "iopub.execute_input": "2022-08-20T12:12:30.180201Z",
     "iopub.status.busy": "2022-08-20T12:12:30.179757Z",
     "iopub.status.idle": "2022-08-20T12:12:30.363296Z",
     "shell.execute_reply": "2022-08-20T12:12:30.361849Z"
    },
    "papermill": {
     "duration": 0.212518,
     "end_time": "2022-08-20T12:12:30.366329",
     "exception": false,
     "start_time": "2022-08-20T12:12:30.153811",
     "status": "completed"
    },
    "tags": []
   },
   "outputs": [],
   "source": [
    "# separate X and y for further processing\n",
    "X = train_df.drop(columns='target')\n",
    "y = train_df['target']"
   ]
  },
  {
   "cell_type": "code",
   "execution_count": 24,
   "id": "265b745f",
   "metadata": {
    "_kg_hide-input": true,
    "execution": {
     "iopub.execute_input": "2022-08-20T12:12:30.418036Z",
     "iopub.status.busy": "2022-08-20T12:12:30.416739Z",
     "iopub.status.idle": "2022-08-20T12:12:30.422968Z",
     "shell.execute_reply": "2022-08-20T12:12:30.421795Z"
    },
    "papermill": {
     "duration": 0.034435,
     "end_time": "2022-08-20T12:12:30.425642",
     "exception": false,
     "start_time": "2022-08-20T12:12:30.391207",
     "status": "completed"
    },
    "tags": []
   },
   "outputs": [
    {
     "name": "stdout",
     "output_type": "stream",
     "text": [
      "Shape of X (100000, 165)\n"
     ]
    }
   ],
   "source": [
    "print(\"Shape of X\", X.shape)"
   ]
  },
  {
   "cell_type": "code",
   "execution_count": 25,
   "id": "259bac16",
   "metadata": {
    "_kg_hide-input": true,
    "execution": {
     "iopub.execute_input": "2022-08-20T12:12:30.475588Z",
     "iopub.status.busy": "2022-08-20T12:12:30.474459Z",
     "iopub.status.idle": "2022-08-20T12:12:30.481310Z",
     "shell.execute_reply": "2022-08-20T12:12:30.479365Z"
    },
    "papermill": {
     "duration": 0.035438,
     "end_time": "2022-08-20T12:12:30.484792",
     "exception": false,
     "start_time": "2022-08-20T12:12:30.449354",
     "status": "completed"
    },
    "tags": []
   },
   "outputs": [
    {
     "name": "stdout",
     "output_type": "stream",
     "text": [
      "Shape of y (100000,)\n"
     ]
    }
   ],
   "source": [
    "print(\"Shape of y\", y.shape)"
   ]
  },
  {
   "cell_type": "markdown",
   "id": "93d13ea5",
   "metadata": {
    "papermill": {
     "duration": 0.024973,
     "end_time": "2022-08-20T12:12:30.541794",
     "exception": false,
     "start_time": "2022-08-20T12:12:30.516821",
     "status": "completed"
    },
    "tags": []
   },
   "source": [
    "Separate Categorical and Numerical variables (columns) for train dataframe"
   ]
  },
  {
   "cell_type": "code",
   "execution_count": 26,
   "id": "f0959fe7",
   "metadata": {
    "_kg_hide-input": true,
    "execution": {
     "iopub.execute_input": "2022-08-20T12:12:30.607342Z",
     "iopub.status.busy": "2022-08-20T12:12:30.606088Z",
     "iopub.status.idle": "2022-08-20T12:12:30.709858Z",
     "shell.execute_reply": "2022-08-20T12:12:30.708158Z"
    },
    "papermill": {
     "duration": 0.137904,
     "end_time": "2022-08-20T12:12:30.712672",
     "exception": false,
     "start_time": "2022-08-20T12:12:30.574768",
     "status": "completed"
    },
    "tags": []
   },
   "outputs": [
    {
     "name": "stdout",
     "output_type": "stream",
     "text": [
      "Categorical variables (columns) are: ['D_63', 'D_64', 'D_68', 'B_30', 'B_38', 'D_114', 'D_116', 'D_117', 'D_120', 'D_126']\n",
      "Numerical variables (columns) are: ['P_2', 'D_39', 'B_1', 'B_2', 'R_1', 'S_3', 'D_41', 'B_3', 'D_43', 'D_44', 'B_4', 'D_45', 'B_5', 'R_2', 'D_46', 'D_47', 'D_48', 'B_6', 'B_7', 'B_8', 'D_50', 'D_51', 'B_9', 'R_3', 'D_52', 'P_3', 'B_10', 'D_53', 'S_5', 'B_11', 'S_6', 'D_54', 'R_4', 'S_7', 'B_12', 'S_8', 'D_55', 'D_56', 'B_13', 'R_5', 'D_58', 'S_9', 'B_14', 'D_59', 'D_60', 'D_61', 'B_15', 'S_11', 'D_62', 'D_65', 'B_16', 'B_17', 'B_18', 'B_19', 'B_20', 'S_12', 'R_6', 'S_13', 'B_21', 'D_69', 'B_22', 'D_70', 'D_71', 'D_72', 'S_15', 'B_23', 'P_4', 'D_74', 'D_75', 'B_24', 'R_7', 'D_77', 'B_25', 'B_26', 'D_78', 'D_79', 'R_8', 'S_16', 'D_80', 'R_10', 'R_11', 'B_27', 'D_81', 'D_82', 'S_17', 'R_12', 'B_28', 'R_13', 'D_83', 'R_14', 'R_15', 'D_84', 'R_16', 'S_18', 'D_86', 'R_17', 'R_18', 'B_31', 'S_19', 'R_19', 'B_32', 'S_20', 'R_20', 'R_21', 'B_33', 'D_89', 'R_22', 'R_23', 'D_91', 'D_92', 'D_93', 'D_94', 'R_24', 'R_25', 'D_96', 'S_22', 'S_23', 'S_24', 'S_25', 'S_26', 'D_102', 'D_103', 'D_104', 'D_105', 'D_107', 'B_36', 'B_37', 'R_27', 'D_109', 'D_112', 'B_40', 'S_27', 'D_113', 'D_115', 'D_118', 'D_119', 'D_121', 'D_122', 'D_123', 'D_124', 'D_125', 'D_127', 'D_128', 'D_129', 'B_41', 'D_130', 'D_131', 'D_133', 'R_28', 'D_139', 'D_140', 'D_141', 'D_143', 'D_144', 'D_145']\n"
     ]
    }
   ],
   "source": [
    "# define categorical variables (columns)\n",
    "categorical = list(X.select_dtypes('object').columns)\n",
    "print(f\"Categorical variables (columns) are: {categorical}\")\n",
    "\n",
    "# define numerical variables (columns)\n",
    "numerical = list(X.select_dtypes('number').columns)\n",
    "print(f\"Numerical variables (columns) are: {numerical}\")"
   ]
  },
  {
   "cell_type": "markdown",
   "id": "b3119501",
   "metadata": {
    "papermill": {
     "duration": 0.0239,
     "end_time": "2022-08-20T12:12:30.761079",
     "exception": false,
     "start_time": "2022-08-20T12:12:30.737179",
     "status": "completed"
    },
    "tags": []
   },
   "source": [
    "---\n",
    "**Handle Categorical Variable (Column)**\n",
    "\n",
    "---"
   ]
  },
  {
   "cell_type": "code",
   "execution_count": 27,
   "id": "ed67ac0f",
   "metadata": {
    "_kg_hide-input": true,
    "execution": {
     "iopub.execute_input": "2022-08-20T12:12:30.812010Z",
     "iopub.status.busy": "2022-08-20T12:12:30.811527Z",
     "iopub.status.idle": "2022-08-20T12:12:30.823428Z",
     "shell.execute_reply": "2022-08-20T12:12:30.822275Z"
    },
    "papermill": {
     "duration": 0.041012,
     "end_time": "2022-08-20T12:12:30.826493",
     "exception": false,
     "start_time": "2022-08-20T12:12:30.785481",
     "status": "completed"
    },
    "tags": []
   },
   "outputs": [
    {
     "name": "stdout",
     "output_type": "stream",
     "text": [
      "Pipeline(steps=[('imputer', SimpleImputer(strategy='most_frequent')),\n",
      "                ('encoder',\n",
      "                 OneHotEncoder(handle_unknown='ignore', sparse=False)),\n",
      "                ('scaler', StandardScaler())])\n"
     ]
    }
   ],
   "source": [
    "# define categorical pipeline\n",
    "cat_pipe = Pipeline([\n",
    "    ('imputer', SimpleImputer(strategy='most_frequent', missing_values=np.nan)),\n",
    "    ('encoder', OneHotEncoder(handle_unknown='ignore', sparse=False)),\n",
    "    ('scaler', StandardScaler())\n",
    "])\n",
    "\n",
    "print(cat_pipe)"
   ]
  },
  {
   "cell_type": "markdown",
   "id": "ef637935",
   "metadata": {
    "papermill": {
     "duration": 0.023812,
     "end_time": "2022-08-20T12:12:30.875478",
     "exception": false,
     "start_time": "2022-08-20T12:12:30.851666",
     "status": "completed"
    },
    "tags": []
   },
   "source": [
    "---\n",
    "**Handle Numerical Variable (Column)**\n",
    "\n",
    "---"
   ]
  },
  {
   "cell_type": "code",
   "execution_count": 28,
   "id": "fe9bbbd5",
   "metadata": {
    "_kg_hide-input": true,
    "execution": {
     "iopub.execute_input": "2022-08-20T12:12:30.926473Z",
     "iopub.status.busy": "2022-08-20T12:12:30.926024Z",
     "iopub.status.idle": "2022-08-20T12:12:30.934167Z",
     "shell.execute_reply": "2022-08-20T12:12:30.933028Z"
    },
    "papermill": {
     "duration": 0.038382,
     "end_time": "2022-08-20T12:12:30.938200",
     "exception": false,
     "start_time": "2022-08-20T12:12:30.899818",
     "status": "completed"
    },
    "tags": []
   },
   "outputs": [
    {
     "name": "stdout",
     "output_type": "stream",
     "text": [
      "Pipeline(steps=[('imputer', SimpleImputer(strategy='most_frequent')),\n",
      "                ('scaler', StandardScaler())])\n"
     ]
    }
   ],
   "source": [
    "# define numerical pipeline\n",
    "num_pipe = Pipeline([\n",
    "    ('imputer', SimpleImputer(strategy='most_frequent', missing_values=np.nan)),\n",
    "    ('scaler', StandardScaler())\n",
    "])\n",
    "print(num_pipe)"
   ]
  },
  {
   "cell_type": "markdown",
   "id": "87e4ed36",
   "metadata": {
    "papermill": {
     "duration": 0.023628,
     "end_time": "2022-08-20T12:12:30.986635",
     "exception": false,
     "start_time": "2022-08-20T12:12:30.963007",
     "status": "completed"
    },
    "tags": []
   },
   "source": [
    "Combine Categorical and Numerical Pipeline Steps"
   ]
  },
  {
   "cell_type": "code",
   "execution_count": 29,
   "id": "03c660d0",
   "metadata": {
    "_kg_hide-input": true,
    "execution": {
     "iopub.execute_input": "2022-08-20T12:12:31.038788Z",
     "iopub.status.busy": "2022-08-20T12:12:31.038370Z",
     "iopub.status.idle": "2022-08-20T12:12:31.059590Z",
     "shell.execute_reply": "2022-08-20T12:12:31.057934Z"
    },
    "papermill": {
     "duration": 0.050202,
     "end_time": "2022-08-20T12:12:31.062800",
     "exception": false,
     "start_time": "2022-08-20T12:12:31.012598",
     "status": "completed"
    },
    "tags": []
   },
   "outputs": [
    {
     "name": "stdout",
     "output_type": "stream",
     "text": [
      "ColumnTransformer(transformers=[('cat',\n",
      "                                 Pipeline(steps=[('imputer',\n",
      "                                                  SimpleImputer(strategy='most_frequent')),\n",
      "                                                 ('encoder',\n",
      "                                                  OneHotEncoder(handle_unknown='ignore',\n",
      "                                                                sparse=False)),\n",
      "                                                 ('scaler', StandardScaler())]),\n",
      "                                 ['D_63', 'D_64', 'D_68', 'B_30', 'B_38',\n",
      "                                  'D_114', 'D_116', 'D_117', 'D_120',\n",
      "                                  'D_126']),\n",
      "                                ('num',\n",
      "                                 Pipeline(steps=[('imputer',\n",
      "                                                  SimpleImputer(strategy='most_frequent')),\n",
      "                                                 ('scaler', StandardScaler())]),\n",
      "                                 ['P_2', 'D_39', 'B_1', 'B_2', 'R_1', 'S_3',\n",
      "                                  'D_41', 'B_3', 'D_43', 'D_44', 'B_4', 'D_45',\n",
      "                                  'B_5', 'R_2', 'D_46', 'D_47', 'D_48', 'B_6',\n",
      "                                  'B_7', 'B_8', 'D_50', 'D_51', 'B_9', 'R_3',\n",
      "                                  'D_52', 'P_3', 'B_10', 'D_53', 'S_5', 'B_11', ...])])\n"
     ]
    }
   ],
   "source": [
    "# combine categorical and numerical pipeline\n",
    "preprocess = ColumnTransformer([\n",
    "    ('cat', cat_pipe, categorical),\n",
    "    ('num', num_pipe, numerical)\n",
    "])\n",
    "\n",
    "print(preprocess)"
   ]
  },
  {
   "cell_type": "markdown",
   "id": "a57c2d8e",
   "metadata": {
    "papermill": {
     "duration": 0.024696,
     "end_time": "2022-08-20T12:12:31.112799",
     "exception": false,
     "start_time": "2022-08-20T12:12:31.088103",
     "status": "completed"
    },
    "tags": []
   },
   "source": [
    "Separate training and validation set for train dataframe"
   ]
  },
  {
   "cell_type": "code",
   "execution_count": 30,
   "id": "4d435d93",
   "metadata": {
    "_kg_hide-input": true,
    "execution": {
     "iopub.execute_input": "2022-08-20T12:12:31.164601Z",
     "iopub.status.busy": "2022-08-20T12:12:31.164106Z",
     "iopub.status.idle": "2022-08-20T12:12:31.477181Z",
     "shell.execute_reply": "2022-08-20T12:12:31.475882Z"
    },
    "papermill": {
     "duration": 0.342849,
     "end_time": "2022-08-20T12:12:31.480166",
     "exception": false,
     "start_time": "2022-08-20T12:12:31.137317",
     "status": "completed"
    },
    "tags": []
   },
   "outputs": [],
   "source": [
    "# splitting training data into training and testing (validation) set\n",
    "X_train, X_test, y_train, y_test = train_test_split(X, y, test_size=0.25, stratify=y, random_state=42)"
   ]
  },
  {
   "cell_type": "code",
   "execution_count": 31,
   "id": "4b29e293",
   "metadata": {
    "_kg_hide-input": true,
    "execution": {
     "iopub.execute_input": "2022-08-20T12:12:31.530559Z",
     "iopub.status.busy": "2022-08-20T12:12:31.530080Z",
     "iopub.status.idle": "2022-08-20T12:12:31.538325Z",
     "shell.execute_reply": "2022-08-20T12:12:31.536060Z"
    },
    "papermill": {
     "duration": 0.037818,
     "end_time": "2022-08-20T12:12:31.542077",
     "exception": false,
     "start_time": "2022-08-20T12:12:31.504259",
     "status": "completed"
    },
    "tags": []
   },
   "outputs": [
    {
     "name": "stdout",
     "output_type": "stream",
     "text": [
      "Shape of X_train (75000, 165)\n"
     ]
    }
   ],
   "source": [
    "print(\"Shape of X_train\", X_train.shape)"
   ]
  },
  {
   "cell_type": "code",
   "execution_count": 32,
   "id": "d201ebba",
   "metadata": {
    "_kg_hide-input": true,
    "execution": {
     "iopub.execute_input": "2022-08-20T12:12:31.593875Z",
     "iopub.status.busy": "2022-08-20T12:12:31.593244Z",
     "iopub.status.idle": "2022-08-20T12:12:31.600192Z",
     "shell.execute_reply": "2022-08-20T12:12:31.598755Z"
    },
    "papermill": {
     "duration": 0.035221,
     "end_time": "2022-08-20T12:12:31.602704",
     "exception": false,
     "start_time": "2022-08-20T12:12:31.567483",
     "status": "completed"
    },
    "tags": []
   },
   "outputs": [
    {
     "name": "stdout",
     "output_type": "stream",
     "text": [
      "Shape of X_test (25000, 165)\n"
     ]
    }
   ],
   "source": [
    "print(\"Shape of X_test\", X_test.shape)"
   ]
  },
  {
   "cell_type": "code",
   "execution_count": 33,
   "id": "d850d4c6",
   "metadata": {
    "_kg_hide-input": true,
    "execution": {
     "iopub.execute_input": "2022-08-20T12:12:31.654906Z",
     "iopub.status.busy": "2022-08-20T12:12:31.654481Z",
     "iopub.status.idle": "2022-08-20T12:12:31.660552Z",
     "shell.execute_reply": "2022-08-20T12:12:31.659624Z"
    },
    "papermill": {
     "duration": 0.034881,
     "end_time": "2022-08-20T12:12:31.663098",
     "exception": false,
     "start_time": "2022-08-20T12:12:31.628217",
     "status": "completed"
    },
    "tags": []
   },
   "outputs": [
    {
     "name": "stdout",
     "output_type": "stream",
     "text": [
      "Shape of y_train (75000,)\n"
     ]
    }
   ],
   "source": [
    "print(\"Shape of y_train\", y_train.shape)"
   ]
  },
  {
   "cell_type": "code",
   "execution_count": 34,
   "id": "862fc862",
   "metadata": {
    "_kg_hide-input": true,
    "execution": {
     "iopub.execute_input": "2022-08-20T12:12:31.715014Z",
     "iopub.status.busy": "2022-08-20T12:12:31.714609Z",
     "iopub.status.idle": "2022-08-20T12:12:31.720930Z",
     "shell.execute_reply": "2022-08-20T12:12:31.719577Z"
    },
    "papermill": {
     "duration": 0.035253,
     "end_time": "2022-08-20T12:12:31.723429",
     "exception": false,
     "start_time": "2022-08-20T12:12:31.688176",
     "status": "completed"
    },
    "tags": []
   },
   "outputs": [
    {
     "name": "stdout",
     "output_type": "stream",
     "text": [
      "Shape of y_test (25000,)\n"
     ]
    }
   ],
   "source": [
    "print(\"Shape of y_test\", y_test.shape)"
   ]
  },
  {
   "cell_type": "markdown",
   "id": "474de51c",
   "metadata": {
    "papermill": {
     "duration": 0.02452,
     "end_time": "2022-08-20T12:12:31.773344",
     "exception": false,
     "start_time": "2022-08-20T12:12:31.748824",
     "status": "completed"
    },
    "tags": []
   },
   "source": [
    "---\n",
    "# Model Building/Evaluation\n",
    "\n",
    "---"
   ]
  },
  {
   "cell_type": "markdown",
   "id": "f31342f0",
   "metadata": {
    "papermill": {
     "duration": 0.02467,
     "end_time": "2022-08-20T12:12:31.823028",
     "exception": false,
     "start_time": "2022-08-20T12:12:31.798358",
     "status": "completed"
    },
    "tags": []
   },
   "source": [
    "Amex Evaluation Metric for reference"
   ]
  },
  {
   "cell_type": "code",
   "execution_count": 35,
   "id": "9267c49f",
   "metadata": {
    "_kg_hide-input": true,
    "execution": {
     "iopub.execute_input": "2022-08-20T12:12:31.875960Z",
     "iopub.status.busy": "2022-08-20T12:12:31.875502Z",
     "iopub.status.idle": "2022-08-20T12:12:31.890474Z",
     "shell.execute_reply": "2022-08-20T12:12:31.889456Z"
    },
    "papermill": {
     "duration": 0.044203,
     "end_time": "2022-08-20T12:12:31.892878",
     "exception": false,
     "start_time": "2022-08-20T12:12:31.848675",
     "status": "completed"
    },
    "tags": []
   },
   "outputs": [],
   "source": [
    "# please refer sample notebook provided under competition page for details\n",
    "def amex_metric(y_true: pd.DataFrame, y_pred: pd.DataFrame) -> float:\n",
    "\n",
    "    def top_four_percent_captured(y_true: pd.DataFrame, y_pred: pd.DataFrame) -> float:\n",
    "        df = (pd.concat([y_true, y_pred], axis='columns')\n",
    "              .sort_values('prediction', ascending=False))\n",
    "        df['weight'] = df['target'].apply(lambda x: 20 if x==0 else 1)\n",
    "        four_pct_cutoff = int(0.04 * df['weight'].sum())\n",
    "        df['weight_cumsum'] = df['weight'].cumsum()\n",
    "        df_cutoff = df.loc[df['weight_cumsum'] <= four_pct_cutoff]\n",
    "        return (df_cutoff['target'] == 1).sum() / (df['target'] == 1).sum()\n",
    "    \n",
    "    def weighted_gini(y_true: pd.DataFrame, y_pred: pd.DataFrame) -> float:\n",
    "        df = (pd.concat([y_true, y_pred], axis='columns')\n",
    "              .sort_values('prediction', ascending=False))\n",
    "        df['weight'] = df['target'].apply(lambda x: 20 if x==0 else 1)\n",
    "        df['random'] = (df['weight'] / df['weight'].sum()).cumsum()\n",
    "        total_pos = (df['target'] * df['weight']).sum()\n",
    "        df['cum_pos_found'] = (df['target'] * df['weight']).cumsum()\n",
    "        df['lorentz'] = df['cum_pos_found'] / total_pos\n",
    "        df['gini'] = (df['lorentz'] - df['random']) * df['weight']\n",
    "        return df['gini'].sum()\n",
    "    \n",
    "    def normalized_weighted_gini(y_true: pd.DataFrame, y_pred: pd.DataFrame) -> float:\n",
    "        y_true_pred = y_true.rename(columns={'target': 'prediction'})\n",
    "        return weighted_gini(y_true, y_pred) / weighted_gini(y_true, y_true_pred)\n",
    "\n",
    "    g = normalized_weighted_gini(y_true, y_pred)\n",
    "    d = top_four_percent_captured(y_true, y_pred)\n",
    "\n",
    "    return 0.5 * (g + d)"
   ]
  },
  {
   "cell_type": "code",
   "execution_count": 36,
   "id": "db00ef34",
   "metadata": {
    "_kg_hide-input": true,
    "execution": {
     "iopub.execute_input": "2022-08-20T12:12:31.944892Z",
     "iopub.status.busy": "2022-08-20T12:12:31.944385Z",
     "iopub.status.idle": "2022-08-20T12:12:31.955368Z",
     "shell.execute_reply": "2022-08-20T12:12:31.954459Z"
    },
    "papermill": {
     "duration": 0.039576,
     "end_time": "2022-08-20T12:12:31.957931",
     "exception": false,
     "start_time": "2022-08-20T12:12:31.918355",
     "status": "completed"
    },
    "tags": []
   },
   "outputs": [],
   "source": [
    "# function for display of model training and validation score\n",
    "def model_score(model_name):\n",
    "    print(\"#######################################################################\")\n",
    "    print(\"Training and Evaluation using\", model_name)\n",
    "    print(\"#######################################################################\")\n",
    "    print(\"preprocess - Categorical: Missing value Impute, OneHotEncoding and Scaling\")\n",
    "    print(\"preprocess - Numerical: Missing value Impute and Scaling\")\n",
    "    print(\"###########################################################################\")\n",
    "    model = pipe.fit(X_train, y_train)  \n",
    "    print(\"#######################################################################\")\n",
    "    print (model)\n",
    "    print(\"#######################################################################\")\n",
    "    print(\"model training score: %.3f\" % pipe.score(X_train, y_train))\n",
    "    print(\"model validation score: %.3f\" % pipe.score(X_test, y_test))\n",
    "    print(\"#######################################################################\")\n",
    "    print(\"Amex Evaluation Metric - Training: %.3f\"% amex_metric(pd.DataFrame(y_train), pd.DataFrame(pipe.predict(X_train), columns=['prediction'])))\n",
    "    print(\"Amex Evaluation Metric - Validation: %.3f\"% amex_metric(pd.DataFrame(y_test), pd.DataFrame(pipe.predict(X_test), columns=['prediction'])))\n",
    "    print(\"#######################################################################\")"
   ]
  },
  {
   "cell_type": "code",
   "execution_count": 37,
   "id": "7b54584e",
   "metadata": {
    "_kg_hide-input": true,
    "execution": {
     "iopub.execute_input": "2022-08-20T12:12:32.011444Z",
     "iopub.status.busy": "2022-08-20T12:12:32.010989Z",
     "iopub.status.idle": "2022-08-20T12:12:32.020685Z",
     "shell.execute_reply": "2022-08-20T12:12:32.019645Z"
    },
    "papermill": {
     "duration": 0.039181,
     "end_time": "2022-08-20T12:12:32.023280",
     "exception": false,
     "start_time": "2022-08-20T12:12:31.984099",
     "status": "completed"
    },
    "tags": []
   },
   "outputs": [],
   "source": [
    "# function for display of cross validation score\n",
    "def model_cross_validation_score(model_name):\n",
    "    print(\"#######################################################################\")\n",
    "    print(\"Training and Evaluation with Cross Validation using\",model_name)\n",
    "    print(\"#######################################################################\")\n",
    "    # using scoring with classification metrics\n",
    "    scoring = ['accuracy', 'precision', 'recall','f1','roc_auc']\n",
    "    #using RepeatedStratifiedKFold as cross validator\n",
    "    cv = RepeatedStratifiedKFold(n_splits=3, n_repeats=2, random_state=42)\n",
    "    # cross validation returning both train and test score\n",
    "    scores = cross_validate(pipe, X, y, scoring=scoring, cv=cv, n_jobs=-1, return_train_score=True,return_estimator=True)\n",
    "    print('Training Score: Accuracy: {:.2f}, Precision: {:.2f}, Recall: {:.2f},f1-score: {:.2f}, ROC AUC: {:.2f}'.format(np.mean(scores['train_accuracy']),np.mean(scores['train_precision']), np.mean(scores['train_recall']), np.mean(scores['train_f1']), np.mean(scores['train_roc_auc'])))\n",
    "    print('Validation Score: Accuracy: {:.2f}, Precision: {:.2f}, Recall: {:.2f},f1-score: {:.2f}, ROC AUC: {:.2f}'.format(np.mean(scores['test_accuracy']),np.mean(scores['test_precision']), np.mean(scores['test_recall']), np.mean(scores['test_f1']), np.mean(scores['test_roc_auc'])))\n",
    "    print(\"#######################################################################\")"
   ]
  },
  {
   "cell_type": "code",
   "execution_count": 38,
   "id": "c05dc25b",
   "metadata": {
    "_kg_hide-input": true,
    "execution": {
     "iopub.execute_input": "2022-08-20T12:12:32.076056Z",
     "iopub.status.busy": "2022-08-20T12:12:32.075638Z",
     "iopub.status.idle": "2022-08-20T12:12:32.083223Z",
     "shell.execute_reply": "2022-08-20T12:12:32.082100Z"
    },
    "papermill": {
     "duration": 0.036514,
     "end_time": "2022-08-20T12:12:32.085575",
     "exception": false,
     "start_time": "2022-08-20T12:12:32.049061",
     "status": "completed"
    },
    "tags": []
   },
   "outputs": [],
   "source": [
    "# function for display of model score via RandomizedSearchCV\n",
    "def model_random_search_score(model_name):\n",
    "    print(\"#######################################################################\")\n",
    "    print(\"Training and Evaluation with RandomizedSearchCV using\",model_name)\n",
    "    print(\"#######################################################################\")\n",
    "    random_search.fit(X_train,y_train)\n",
    "    model = random_search.best_estimator_\n",
    "    score = random_search.best_score_\n",
    "    print (\"Best Estimator for\", model_name,\"is\", model,\"with best score as\",score)\n",
    "    print(\"#######################################################################\")\n",
    "    print(\"Amex Evaluation Metric - Training: %.3f\"% amex_metric(pd.DataFrame(y_train), pd.DataFrame(model.predict(X_train), columns=['prediction'])))\n",
    "    print(\"Amex Evaluation Metric - Validation: %.3f\"% amex_metric(pd.DataFrame(y_test), pd.DataFrame(model.predict(X_test), columns=['prediction'])))\n",
    "    print(\"#######################################################################\")"
   ]
  },
  {
   "cell_type": "markdown",
   "id": "a40b24de",
   "metadata": {
    "papermill": {
     "duration": 0.024837,
     "end_time": "2022-08-20T12:12:32.135831",
     "exception": false,
     "start_time": "2022-08-20T12:12:32.110994",
     "status": "completed"
    },
    "tags": []
   },
   "source": [
    "---\n",
    "Using pipeline steps for Model Building, Training & Evaluation\n",
    "\n",
    "---"
   ]
  },
  {
   "cell_type": "code",
   "execution_count": 39,
   "id": "d17bed00",
   "metadata": {
    "_kg_hide-input": true,
    "execution": {
     "iopub.execute_input": "2022-08-20T12:12:32.188973Z",
     "iopub.status.busy": "2022-08-20T12:12:32.187768Z",
     "iopub.status.idle": "2022-08-20T12:12:32.194681Z",
     "shell.execute_reply": "2022-08-20T12:12:32.193847Z"
    },
    "papermill": {
     "duration": 0.036167,
     "end_time": "2022-08-20T12:12:32.196975",
     "exception": false,
     "start_time": "2022-08-20T12:12:32.160808",
     "status": "completed"
    },
    "tags": []
   },
   "outputs": [],
   "source": [
    "# pipeline steps required for model building,training and evaluation\n",
    "steps = [\n",
    "        ('preprocess', preprocess),\n",
    "        ('over_sampler',SMOTE(random_state = 42)),\n",
    "        ('under_sampler',RandomUnderSampler()),\n",
    "        ('feature_selection', SelectFromModel(RandomForestClassifier(n_estimators = 10, random_state = 42, n_jobs = -1))),\n",
    "        ('dimension_reduction', PCA(n_components='mle',random_state = 42)),\n",
    "        ('model_estimator', RandomForestClassifier(random_state = 42))\n",
    "    ]\n",
    "pipe = Pipeline(steps, verbose=True)"
   ]
  },
  {
   "cell_type": "markdown",
   "id": "6ffa5460",
   "metadata": {
    "papermill": {
     "duration": 0.024697,
     "end_time": "2022-08-20T12:12:32.247039",
     "exception": false,
     "start_time": "2022-08-20T12:12:32.222342",
     "status": "completed"
    },
    "tags": []
   },
   "source": [
    "* Using RandomForestClassifier"
   ]
  },
  {
   "cell_type": "code",
   "execution_count": 40,
   "id": "ab331df5",
   "metadata": {
    "_kg_hide-input": true,
    "execution": {
     "iopub.execute_input": "2022-08-20T12:12:32.299308Z",
     "iopub.status.busy": "2022-08-20T12:12:32.298619Z",
     "iopub.status.idle": "2022-08-20T12:15:08.424411Z",
     "shell.execute_reply": "2022-08-20T12:15:08.421845Z"
    },
    "papermill": {
     "duration": 156.156364,
     "end_time": "2022-08-20T12:15:08.428373",
     "exception": false,
     "start_time": "2022-08-20T12:12:32.272009",
     "status": "completed"
    },
    "tags": []
   },
   "outputs": [
    {
     "name": "stdout",
     "output_type": "stream",
     "text": [
      "#######################################################################\n",
      "Training and Evaluation using RandomForestClassifier\n",
      "#######################################################################\n",
      "preprocess - Categorical: Missing value Impute, OneHotEncoding and Scaling\n",
      "preprocess - Numerical: Missing value Impute and Scaling\n",
      "###########################################################################\n",
      "[Pipeline] ........ (step 1 of 6) Processing preprocess, total=   2.9s\n",
      "[Pipeline] ...... (step 2 of 6) Processing over_sampler, total=  10.5s\n",
      "[Pipeline] ..... (step 3 of 6) Processing under_sampler, total=   0.1s\n",
      "[Pipeline] . (step 4 of 6) Processing feature_selection, total=  10.4s\n",
      "[Pipeline]  (step 5 of 6) Processing dimension_reduction, total=   0.4s\n",
      "[Pipeline] ... (step 6 of 6) Processing model_estimator, total= 2.0min\n",
      "#######################################################################\n",
      "Pipeline(steps=[('preprocess',\n",
      "                 ColumnTransformer(transformers=[('cat',\n",
      "                                                  Pipeline(steps=[('imputer',\n",
      "                                                                   SimpleImputer(strategy='most_frequent')),\n",
      "                                                                  ('encoder',\n",
      "                                                                   OneHotEncoder(handle_unknown='ignore',\n",
      "                                                                                 sparse=False)),\n",
      "                                                                  ('scaler',\n",
      "                                                                   StandardScaler())]),\n",
      "                                                  ['D_63', 'D_64', 'D_68',\n",
      "                                                   'B_30', 'B_38', 'D_114',\n",
      "                                                   'D_116', 'D_117', 'D_120',\n",
      "                                                   'D_126']),\n",
      "                                                 ('num',\n",
      "                                                  Pipeline(steps=[('imputer',\n",
      "                                                                   SimpleI...\n",
      "                                                   'D_53', 'S_5', 'B_11', ...])])),\n",
      "                ('over_sampler', SMOTE(random_state=42)),\n",
      "                ('under_sampler', RandomUnderSampler()),\n",
      "                ('feature_selection',\n",
      "                 SelectFromModel(estimator=RandomForestClassifier(n_estimators=10,\n",
      "                                                                  n_jobs=-1,\n",
      "                                                                  random_state=42))),\n",
      "                ('dimension_reduction',\n",
      "                 PCA(n_components='mle', random_state=42)),\n",
      "                ('model_estimator', RandomForestClassifier(random_state=42))],\n",
      "         verbose=True)\n",
      "#######################################################################\n",
      "model training score: 1.000\n",
      "model validation score: 0.914\n",
      "#######################################################################\n",
      "Amex Evaluation Metric - Training: 0.016\n",
      "Amex Evaluation Metric - Validation: -0.002\n",
      "#######################################################################\n"
     ]
    }
   ],
   "source": [
    "# using custom function to display model training and validation score\n",
    "model_score(\"RandomForestClassifier\")"
   ]
  },
  {
   "cell_type": "markdown",
   "id": "06c495f8",
   "metadata": {
    "papermill": {
     "duration": 0.025784,
     "end_time": "2022-08-20T12:15:08.481008",
     "exception": false,
     "start_time": "2022-08-20T12:15:08.455224",
     "status": "completed"
    },
    "tags": []
   },
   "source": [
    "\n"
   ]
  },
  {
   "cell_type": "markdown",
   "id": "a875d9df",
   "metadata": {
    "papermill": {
     "duration": 0.026057,
     "end_time": "2022-08-20T12:15:08.533107",
     "exception": false,
     "start_time": "2022-08-20T12:15:08.507050",
     "status": "completed"
    },
    "tags": []
   },
   "source": [
    "* Using XGBClassifier"
   ]
  },
  {
   "cell_type": "code",
   "execution_count": 41,
   "id": "136e7cee",
   "metadata": {
    "_kg_hide-input": true,
    "execution": {
     "iopub.execute_input": "2022-08-20T12:15:08.588558Z",
     "iopub.status.busy": "2022-08-20T12:15:08.587058Z",
     "iopub.status.idle": "2022-08-20T12:16:30.953872Z",
     "shell.execute_reply": "2022-08-20T12:16:30.952196Z"
    },
    "papermill": {
     "duration": 82.397741,
     "end_time": "2022-08-20T12:16:30.956689",
     "exception": false,
     "start_time": "2022-08-20T12:15:08.558948",
     "status": "completed"
    },
    "tags": []
   },
   "outputs": [
    {
     "name": "stdout",
     "output_type": "stream",
     "text": [
      "#######################################################################\n",
      "Training and Evaluation using XGBClassifier\n",
      "#######################################################################\n",
      "preprocess - Categorical: Missing value Impute, OneHotEncoding and Scaling\n",
      "preprocess - Numerical: Missing value Impute and Scaling\n",
      "###########################################################################\n",
      "[Pipeline] ........ (step 1 of 6) Processing preprocess, total=   2.5s\n",
      "[Pipeline] ...... (step 2 of 6) Processing over_sampler, total=   9.7s\n",
      "[Pipeline] ..... (step 3 of 6) Processing under_sampler, total=   0.1s\n",
      "[Pipeline] . (step 4 of 6) Processing feature_selection, total=   9.7s\n",
      "[Pipeline]  (step 5 of 6) Processing dimension_reduction, total=   0.4s\n",
      "[Pipeline] ... (step 6 of 6) Processing model_estimator, total=  55.5s\n",
      "#######################################################################\n",
      "Pipeline(steps=[('preprocess',\n",
      "                 ColumnTransformer(transformers=[('cat',\n",
      "                                                  Pipeline(steps=[('imputer',\n",
      "                                                                   SimpleImputer(strategy='most_frequent')),\n",
      "                                                                  ('encoder',\n",
      "                                                                   OneHotEncoder(handle_unknown='ignore',\n",
      "                                                                                 sparse=False)),\n",
      "                                                                  ('scaler',\n",
      "                                                                   StandardScaler())]),\n",
      "                                                  ['D_63', 'D_64', 'D_68',\n",
      "                                                   'B_30', 'B_38', 'D_114',\n",
      "                                                   'D_116', 'D_117', 'D_120',\n",
      "                                                   'D_126']),\n",
      "                                                 ('num',\n",
      "                                                  Pipeline(steps=[('imputer',\n",
      "                                                                   SimpleI...\n",
      "                               gamma=0, gpu_id=-1, grow_policy='depthwise',\n",
      "                               importance_type=None, interaction_constraints='',\n",
      "                               learning_rate=0.300000012, max_bin=256,\n",
      "                               max_cat_to_onehot=4, max_delta_step=0,\n",
      "                               max_depth=6, max_leaves=0, min_child_weight=1,\n",
      "                               missing=nan, monotone_constraints='()',\n",
      "                               n_estimators=100, n_jobs=0, num_parallel_tree=1,\n",
      "                               predictor='auto', random_state=0, reg_alpha=0,\n",
      "                               reg_lambda=1, ...))],\n",
      "         verbose=True)\n",
      "#######################################################################\n",
      "model training score: 0.936\n",
      "model validation score: 0.887\n",
      "#######################################################################\n",
      "Amex Evaluation Metric - Training: 0.022\n",
      "Amex Evaluation Metric - Validation: -0.001\n",
      "#######################################################################\n"
     ]
    }
   ],
   "source": [
    "# using XGBClassifier\n",
    "pipe.set_params(model_estimator=XGBClassifier())\n",
    "# using custom function to display model training and validation score\n",
    "model_score(\"XGBClassifier\")"
   ]
  },
  {
   "cell_type": "markdown",
   "id": "f757aa1f",
   "metadata": {
    "papermill": {
     "duration": 0.027365,
     "end_time": "2022-08-20T12:16:31.011314",
     "exception": false,
     "start_time": "2022-08-20T12:16:30.983949",
     "status": "completed"
    },
    "tags": []
   },
   "source": [
    "---\n",
    "Using XGBClassifier with Cross-Validation and scoring with accuracy, precision, recall, f1-score and ROC AUC\n",
    "\n",
    "---"
   ]
  },
  {
   "cell_type": "code",
   "execution_count": 42,
   "id": "024ca805",
   "metadata": {
    "_kg_hide-input": true,
    "execution": {
     "iopub.execute_input": "2022-08-20T12:16:31.068681Z",
     "iopub.status.busy": "2022-08-20T12:16:31.067541Z",
     "iopub.status.idle": "2022-08-20T12:22:41.594455Z",
     "shell.execute_reply": "2022-08-20T12:22:41.593179Z"
    },
    "papermill": {
     "duration": 370.586568,
     "end_time": "2022-08-20T12:22:41.625464",
     "exception": false,
     "start_time": "2022-08-20T12:16:31.038896",
     "status": "completed"
    },
    "tags": []
   },
   "outputs": [
    {
     "name": "stdout",
     "output_type": "stream",
     "text": [
      "#######################################################################\n",
      "Training and Evaluation with Cross Validation using XGBClassifier\n",
      "#######################################################################\n",
      "Training Score: Accuracy: 0.94, Precision: 0.82, Recall: 0.96,f1-score: 0.89, ROC AUC: 0.99\n",
      "Validation Score: Accuracy: 0.89, Precision: 0.73, Recall: 0.90,f1-score: 0.80, ROC AUC: 0.96\n",
      "#######################################################################\n"
     ]
    }
   ],
   "source": [
    "#using custom function to display cross validation score\n",
    "model_cross_validation_score(\"XGBClassifier\")"
   ]
  },
  {
   "cell_type": "markdown",
   "id": "c9e7b553",
   "metadata": {
    "papermill": {
     "duration": 0.025572,
     "end_time": "2022-08-20T12:22:41.676877",
     "exception": false,
     "start_time": "2022-08-20T12:22:41.651305",
     "status": "completed"
    },
    "tags": []
   },
   "source": [
    "* Using LGBMClassifier"
   ]
  },
  {
   "cell_type": "code",
   "execution_count": 43,
   "id": "ac8e731d",
   "metadata": {
    "_kg_hide-input": true,
    "execution": {
     "iopub.execute_input": "2022-08-20T12:22:41.732147Z",
     "iopub.status.busy": "2022-08-20T12:22:41.731223Z",
     "iopub.status.idle": "2022-08-20T12:23:14.097258Z",
     "shell.execute_reply": "2022-08-20T12:23:14.095225Z"
    },
    "papermill": {
     "duration": 32.397851,
     "end_time": "2022-08-20T12:23:14.100520",
     "exception": false,
     "start_time": "2022-08-20T12:22:41.702669",
     "status": "completed"
    },
    "tags": []
   },
   "outputs": [
    {
     "name": "stdout",
     "output_type": "stream",
     "text": [
      "#######################################################################\n",
      "Training and Evaluation using LGBMClassifier\n",
      "#######################################################################\n",
      "preprocess - Categorical: Missing value Impute, OneHotEncoding and Scaling\n",
      "preprocess - Numerical: Missing value Impute and Scaling\n",
      "###########################################################################\n",
      "[Pipeline] ........ (step 1 of 6) Processing preprocess, total=   2.9s\n",
      "[Pipeline] ...... (step 2 of 6) Processing over_sampler, total=  11.4s\n",
      "[Pipeline] ..... (step 3 of 6) Processing under_sampler, total=   0.1s\n",
      "[Pipeline] . (step 4 of 6) Processing feature_selection, total=  10.3s\n",
      "[Pipeline]  (step 5 of 6) Processing dimension_reduction, total=   0.3s\n",
      "[Pipeline] ... (step 6 of 6) Processing model_estimator, total=   2.6s\n",
      "#######################################################################\n",
      "Pipeline(steps=[('preprocess',\n",
      "                 ColumnTransformer(transformers=[('cat',\n",
      "                                                  Pipeline(steps=[('imputer',\n",
      "                                                                   SimpleImputer(strategy='most_frequent')),\n",
      "                                                                  ('encoder',\n",
      "                                                                   OneHotEncoder(handle_unknown='ignore',\n",
      "                                                                                 sparse=False)),\n",
      "                                                                  ('scaler',\n",
      "                                                                   StandardScaler())]),\n",
      "                                                  ['D_63', 'D_64', 'D_68',\n",
      "                                                   'B_30', 'B_38', 'D_114',\n",
      "                                                   'D_116', 'D_117', 'D_120',\n",
      "                                                   'D_126']),\n",
      "                                                 ('num',\n",
      "                                                  Pipeline(steps=[('imputer',\n",
      "                                                                   SimpleI...\n",
      "                                                   'R_3', 'D_52', 'P_3', 'B_10',\n",
      "                                                   'D_53', 'S_5', 'B_11', ...])])),\n",
      "                ('over_sampler', SMOTE(random_state=42)),\n",
      "                ('under_sampler', RandomUnderSampler()),\n",
      "                ('feature_selection',\n",
      "                 SelectFromModel(estimator=RandomForestClassifier(n_estimators=10,\n",
      "                                                                  n_jobs=-1,\n",
      "                                                                  random_state=42))),\n",
      "                ('dimension_reduction',\n",
      "                 PCA(n_components='mle', random_state=42)),\n",
      "                ('model_estimator', LGBMClassifier())],\n",
      "         verbose=True)\n",
      "#######################################################################\n",
      "model training score: 0.876\n",
      "model validation score: 0.859\n",
      "#######################################################################\n",
      "Amex Evaluation Metric - Training: 0.024\n",
      "Amex Evaluation Metric - Validation: -0.001\n",
      "#######################################################################\n"
     ]
    }
   ],
   "source": [
    "# using LGBMClassifier\n",
    "pipe.set_params(model_estimator=LGBMClassifier())\n",
    "# using custom function to display model training and validation score\n",
    "model_score(\"LGBMClassifier\")"
   ]
  },
  {
   "cell_type": "markdown",
   "id": "b691c5a3",
   "metadata": {
    "papermill": {
     "duration": 0.027617,
     "end_time": "2022-08-20T12:23:14.156439",
     "exception": false,
     "start_time": "2022-08-20T12:23:14.128822",
     "status": "completed"
    },
    "tags": []
   },
   "source": [
    "---\n",
    "Using LGBMClassifier with Cross-Validation and scoring with accuracy, precision, recall, f1-score and ROC AUC\n",
    "\n",
    "---"
   ]
  },
  {
   "cell_type": "code",
   "execution_count": 44,
   "id": "a577f22a",
   "metadata": {
    "_kg_hide-input": true,
    "execution": {
     "iopub.execute_input": "2022-08-20T12:23:14.214855Z",
     "iopub.status.busy": "2022-08-20T12:23:14.213568Z",
     "iopub.status.idle": "2022-08-20T12:25:06.497605Z",
     "shell.execute_reply": "2022-08-20T12:25:06.495756Z"
    },
    "papermill": {
     "duration": 112.344617,
     "end_time": "2022-08-20T12:25:06.528627",
     "exception": false,
     "start_time": "2022-08-20T12:23:14.184010",
     "status": "completed"
    },
    "tags": []
   },
   "outputs": [
    {
     "name": "stdout",
     "output_type": "stream",
     "text": [
      "#######################################################################\n",
      "Training and Evaluation with Cross Validation using LGBMClassifier\n",
      "#######################################################################\n",
      "Training Score: Accuracy: 0.88, Precision: 0.70, Recall: 0.93,f1-score: 0.80, ROC AUC: 0.96\n",
      "Validation Score: Accuracy: 0.86, Precision: 0.67, Recall: 0.91,f1-score: 0.77, ROC AUC: 0.95\n",
      "#######################################################################\n"
     ]
    }
   ],
   "source": [
    "#using custom function to display cross validation score\n",
    "model_cross_validation_score(\"LGBMClassifier\")"
   ]
  },
  {
   "cell_type": "markdown",
   "id": "b7d93f2b",
   "metadata": {
    "papermill": {
     "duration": 0.026685,
     "end_time": "2022-08-20T12:25:06.582658",
     "exception": false,
     "start_time": "2022-08-20T12:25:06.555973",
     "status": "completed"
    },
    "tags": []
   },
   "source": [
    "* Using CatBoostClassifier"
   ]
  },
  {
   "cell_type": "code",
   "execution_count": 45,
   "id": "7550bb0f",
   "metadata": {
    "_kg_hide-input": true,
    "execution": {
     "iopub.execute_input": "2022-08-20T12:25:06.639224Z",
     "iopub.status.busy": "2022-08-20T12:25:06.638752Z",
     "iopub.status.idle": "2022-08-20T12:25:37.004779Z",
     "shell.execute_reply": "2022-08-20T12:25:37.003253Z"
    },
    "papermill": {
     "duration": 30.423271,
     "end_time": "2022-08-20T12:25:37.033144",
     "exception": false,
     "start_time": "2022-08-20T12:25:06.609873",
     "status": "completed"
    },
    "tags": []
   },
   "outputs": [
    {
     "name": "stdout",
     "output_type": "stream",
     "text": [
      "#######################################################################\n",
      "Training and Evaluation using CatBoostClassifier\n",
      "#######################################################################\n",
      "preprocess - Categorical: Missing value Impute, OneHotEncoding and Scaling\n",
      "preprocess - Numerical: Missing value Impute and Scaling\n",
      "###########################################################################\n",
      "[Pipeline] ........ (step 1 of 6) Processing preprocess, total=   2.5s\n",
      "[Pipeline] ...... (step 2 of 6) Processing over_sampler, total=   9.7s\n",
      "[Pipeline] ..... (step 3 of 6) Processing under_sampler, total=   0.1s\n",
      "[Pipeline] . (step 4 of 6) Processing feature_selection, total=  10.1s\n",
      "[Pipeline]  (step 5 of 6) Processing dimension_reduction, total=   0.4s\n",
      "0:\tlearn: 0.3816283\ttotal: 102ms\tremaining: 205ms\n",
      "1:\tlearn: 0.3648425\ttotal: 139ms\tremaining: 69.4ms\n",
      "2:\tlearn: 0.3533694\ttotal: 176ms\tremaining: 0us\n",
      "[Pipeline] ... (step 6 of 6) Processing model_estimator, total=   0.6s\n",
      "#######################################################################\n",
      "Pipeline(steps=[('preprocess',\n",
      "                 ColumnTransformer(transformers=[('cat',\n",
      "                                                  Pipeline(steps=[('imputer',\n",
      "                                                                   SimpleImputer(strategy='most_frequent')),\n",
      "                                                                  ('encoder',\n",
      "                                                                   OneHotEncoder(handle_unknown='ignore',\n",
      "                                                                                 sparse=False)),\n",
      "                                                                  ('scaler',\n",
      "                                                                   StandardScaler())]),\n",
      "                                                  ['D_63', 'D_64', 'D_68',\n",
      "                                                   'B_30', 'B_38', 'D_114',\n",
      "                                                   'D_116', 'D_117', 'D_120',\n",
      "                                                   'D_126']),\n",
      "                                                 ('num',\n",
      "                                                  Pipeline(steps=[('imputer',\n",
      "                                                                   SimpleI...\n",
      "                                                   'D_53', 'S_5', 'B_11', ...])])),\n",
      "                ('over_sampler', SMOTE(random_state=42)),\n",
      "                ('under_sampler', RandomUnderSampler()),\n",
      "                ('feature_selection',\n",
      "                 SelectFromModel(estimator=RandomForestClassifier(n_estimators=10,\n",
      "                                                                  n_jobs=-1,\n",
      "                                                                  random_state=42))),\n",
      "                ('dimension_reduction',\n",
      "                 PCA(n_components='mle', random_state=42)),\n",
      "                ('model_estimator',\n",
      "                 <catboost.core.CatBoostClassifier object at 0x7f7757159690>)],\n",
      "         verbose=True)\n",
      "#######################################################################\n",
      "model training score: 0.835\n",
      "model validation score: 0.828\n",
      "#######################################################################\n",
      "Amex Evaluation Metric - Training: 0.025\n",
      "Amex Evaluation Metric - Validation: -0.001\n",
      "#######################################################################\n"
     ]
    }
   ],
   "source": [
    "# using CatBoostClassifier\n",
    "pipe.set_params(model_estimator=CatBoostClassifier(iterations=3,learning_rate=1,depth=6))\n",
    "# using custom function to display model training and validation score\n",
    "model_score(\"CatBoostClassifier\")"
   ]
  },
  {
   "cell_type": "markdown",
   "id": "e245209a",
   "metadata": {
    "papermill": {
     "duration": 0.027666,
     "end_time": "2022-08-20T12:25:37.088933",
     "exception": false,
     "start_time": "2022-08-20T12:25:37.061267",
     "status": "completed"
    },
    "tags": []
   },
   "source": [
    "---\n",
    "Using CatBoostClassifier with Cross-Validation and scoring with accuracy, precision, recall, f1-score and ROC AUC\n",
    "\n",
    "---"
   ]
  },
  {
   "cell_type": "code",
   "execution_count": 46,
   "id": "0c903209",
   "metadata": {
    "_kg_hide-input": true,
    "execution": {
     "iopub.execute_input": "2022-08-20T12:25:37.147081Z",
     "iopub.status.busy": "2022-08-20T12:25:37.146613Z",
     "iopub.status.idle": "2022-08-20T12:27:15.020305Z",
     "shell.execute_reply": "2022-08-20T12:27:15.019177Z"
    },
    "papermill": {
     "duration": 97.932575,
     "end_time": "2022-08-20T12:27:15.049439",
     "exception": false,
     "start_time": "2022-08-20T12:25:37.116864",
     "status": "completed"
    },
    "tags": []
   },
   "outputs": [
    {
     "name": "stdout",
     "output_type": "stream",
     "text": [
      "#######################################################################\n",
      "Training and Evaluation with Cross Validation using CatBoostClassifier\n",
      "#######################################################################\n",
      "Training Score: Accuracy: 0.83, Precision: 0.61, Recall: 0.89,f1-score: 0.73, ROC AUC: 0.92\n",
      "Validation Score: Accuracy: 0.83, Precision: 0.61, Recall: 0.89,f1-score: 0.72, ROC AUC: 0.92\n",
      "#######################################################################\n"
     ]
    }
   ],
   "source": [
    "#using custom function to display cross validation score\n",
    "model_cross_validation_score(\"CatBoostClassifier\")"
   ]
  },
  {
   "cell_type": "code",
   "execution_count": 47,
   "id": "90fe242c",
   "metadata": {
    "_kg_hide-input": true,
    "execution": {
     "iopub.execute_input": "2022-08-20T12:27:15.108009Z",
     "iopub.status.busy": "2022-08-20T12:27:15.106409Z",
     "iopub.status.idle": "2022-08-20T12:27:15.111789Z",
     "shell.execute_reply": "2022-08-20T12:27:15.110867Z"
    },
    "papermill": {
     "duration": 0.036773,
     "end_time": "2022-08-20T12:27:15.113961",
     "exception": false,
     "start_time": "2022-08-20T12:27:15.077188",
     "status": "completed"
    },
    "tags": []
   },
   "outputs": [],
   "source": [
    "# param_grid = dict(model_estimator=[XGBClassifier(),LGBMClassifier()])\n",
    "# grid_search = GridSearchCV(pipe, param_grid=param_grid, scoring='roc_auc',cv=3,verbose=3, n_jobs=-1).fit(X,y)"
   ]
  },
  {
   "cell_type": "code",
   "execution_count": 48,
   "id": "2cd98c23",
   "metadata": {
    "_kg_hide-input": true,
    "execution": {
     "iopub.execute_input": "2022-08-20T12:27:15.172234Z",
     "iopub.status.busy": "2022-08-20T12:27:15.171305Z",
     "iopub.status.idle": "2022-08-20T12:27:15.175800Z",
     "shell.execute_reply": "2022-08-20T12:27:15.174860Z"
    },
    "papermill": {
     "duration": 0.036477,
     "end_time": "2022-08-20T12:27:15.178120",
     "exception": false,
     "start_time": "2022-08-20T12:27:15.141643",
     "status": "completed"
    },
    "tags": []
   },
   "outputs": [],
   "source": [
    "#estimator which gave higher score\n",
    "#grid_search.best_estimator_"
   ]
  },
  {
   "cell_type": "markdown",
   "id": "19703c29",
   "metadata": {
    "papermill": {
     "duration": 0.027231,
     "end_time": "2022-08-20T12:27:15.233076",
     "exception": false,
     "start_time": "2022-08-20T12:27:15.205845",
     "status": "completed"
    },
    "tags": []
   },
   "source": [
    "* Using RandomizedSearchCV for XGBClassifier"
   ]
  },
  {
   "cell_type": "code",
   "execution_count": 49,
   "id": "c468ca51",
   "metadata": {
    "_kg_hide-input": true,
    "execution": {
     "iopub.execute_input": "2022-08-20T12:27:15.290978Z",
     "iopub.status.busy": "2022-08-20T12:27:15.290186Z",
     "iopub.status.idle": "2022-08-20T12:27:15.297016Z",
     "shell.execute_reply": "2022-08-20T12:27:15.296183Z"
    },
    "papermill": {
     "duration": 0.03849,
     "end_time": "2022-08-20T12:27:15.299242",
     "exception": false,
     "start_time": "2022-08-20T12:27:15.260752",
     "status": "completed"
    },
    "tags": []
   },
   "outputs": [],
   "source": [
    "# using parameters for RandomizedSearchCV for XGBClassifier\n",
    "param_random = dict(model_estimator=[XGBClassifier()],model_estimator__learning_rate= [0.05,0.10,0.15,0.20,0.25,0.30],model_estimator__max_depth= [ 3, 4, 5, 6, 8, 10, 12, 15],model_estimator__min_child_weight=[ 1, 3, 5, 7 ], model_estimator__gamma=[ 0.0, 0.1, 0.2 , 0.3, 0.4 ], model_estimator__colsample_bytree =[ 0.3, 0.4, 0.5 , 0.7 ])\n",
    "random_search = RandomizedSearchCV(pipe, param_distributions=param_random, n_iter=1, cv=3, scoring='roc_auc', verbose=3,random_state=42)"
   ]
  },
  {
   "cell_type": "markdown",
   "id": "6dc5ce59",
   "metadata": {
    "papermill": {
     "duration": 0.027066,
     "end_time": "2022-08-20T12:27:15.354205",
     "exception": false,
     "start_time": "2022-08-20T12:27:15.327139",
     "status": "completed"
    },
    "tags": []
   },
   "source": [
    "Best Estimator for XGBClassifier for this training sample"
   ]
  },
  {
   "cell_type": "code",
   "execution_count": 50,
   "id": "8ac9805d",
   "metadata": {
    "_kg_hide-input": true,
    "execution": {
     "iopub.execute_input": "2022-08-20T12:27:15.411976Z",
     "iopub.status.busy": "2022-08-20T12:27:15.411203Z",
     "iopub.status.idle": "2022-08-20T12:29:44.252945Z",
     "shell.execute_reply": "2022-08-20T12:29:44.251476Z"
    },
    "papermill": {
     "duration": 148.874608,
     "end_time": "2022-08-20T12:29:44.256495",
     "exception": false,
     "start_time": "2022-08-20T12:27:15.381887",
     "status": "completed"
    },
    "tags": []
   },
   "outputs": [
    {
     "name": "stdout",
     "output_type": "stream",
     "text": [
      "#######################################################################\n",
      "Training and Evaluation with RandomizedSearchCV using XGBClassifier\n",
      "#######################################################################\n",
      "Fitting 3 folds for each of 1 candidates, totalling 3 fits\n",
      "[Pipeline] ........ (step 1 of 6) Processing preprocess, total=   1.8s\n",
      "[Pipeline] ...... (step 2 of 6) Processing over_sampler, total=   4.5s\n",
      "[Pipeline] ..... (step 3 of 6) Processing under_sampler, total=   0.1s\n",
      "[Pipeline] . (step 4 of 6) Processing feature_selection, total=   6.4s\n",
      "[Pipeline]  (step 5 of 6) Processing dimension_reduction, total=   0.3s\n",
      "[Pipeline] ... (step 6 of 6) Processing model_estimator, total=  18.3s\n",
      "[CV 1/3] END model_estimator=XGBClassifier(base_score=None, booster=None, callbacks=None,\n",
      "              colsample_bylevel=None, colsample_bynode=None,\n",
      "              colsample_bytree=None, early_stopping_rounds=None,\n",
      "              enable_categorical=False, eval_metric=None, gamma=None,\n",
      "              gpu_id=None, grow_policy=None, importance_type=None,\n",
      "              interaction_constraints=None, learning_rate=None, max_bin=None,\n",
      "              max_cat_to_onehot=None, max_delta_step=None, max_depth=None,\n",
      "              max_leaves=None, min_child_weight=None, missing=nan,\n",
      "              monotone_constraints=None, n_estimators=100, n_jobs=None,\n",
      "              num_parallel_tree=None, predictor=None, random_state=None,\n",
      "              reg_alpha=None, reg_lambda=None, ...), model_estimator__colsample_bytree=0.7, model_estimator__gamma=0.1, model_estimator__learning_rate=0.2, model_estimator__max_depth=4, model_estimator__min_child_weight=5;, score=0.941 total time=  31.9s\n",
      "[Pipeline] ........ (step 1 of 6) Processing preprocess, total=   1.8s\n",
      "[Pipeline] ...... (step 2 of 6) Processing over_sampler, total=   4.9s\n",
      "[Pipeline] ..... (step 3 of 6) Processing under_sampler, total=   0.1s\n",
      "[Pipeline] . (step 4 of 6) Processing feature_selection, total=   6.3s\n",
      "[Pipeline]  (step 5 of 6) Processing dimension_reduction, total=   0.2s\n",
      "[Pipeline] ... (step 6 of 6) Processing model_estimator, total=  16.0s\n",
      "[CV 2/3] END model_estimator=XGBClassifier(base_score=None, booster=None, callbacks=None,\n",
      "              colsample_bylevel=None, colsample_bynode=None,\n",
      "              colsample_bytree=None, early_stopping_rounds=None,\n",
      "              enable_categorical=False, eval_metric=None, gamma=None,\n",
      "              gpu_id=None, grow_policy=None, importance_type=None,\n",
      "              interaction_constraints=None, learning_rate=None, max_bin=None,\n",
      "              max_cat_to_onehot=None, max_delta_step=None, max_depth=None,\n",
      "              max_leaves=None, min_child_weight=None, missing=nan,\n",
      "              monotone_constraints=None, n_estimators=100, n_jobs=None,\n",
      "              num_parallel_tree=None, predictor=None, random_state=None,\n",
      "              reg_alpha=None, reg_lambda=None, ...), model_estimator__colsample_bytree=0.7, model_estimator__gamma=0.1, model_estimator__learning_rate=0.2, model_estimator__max_depth=4, model_estimator__min_child_weight=5;, score=0.934 total time=  29.9s\n",
      "[Pipeline] ........ (step 1 of 6) Processing preprocess, total=   1.7s\n",
      "[Pipeline] ...... (step 2 of 6) Processing over_sampler, total=   4.5s\n",
      "[Pipeline] ..... (step 3 of 6) Processing under_sampler, total=   0.1s\n",
      "[Pipeline] . (step 4 of 6) Processing feature_selection, total=   6.2s\n",
      "[Pipeline]  (step 5 of 6) Processing dimension_reduction, total=   0.3s\n",
      "[Pipeline] ... (step 6 of 6) Processing model_estimator, total=  19.8s\n",
      "[CV 3/3] END model_estimator=XGBClassifier(base_score=None, booster=None, callbacks=None,\n",
      "              colsample_bylevel=None, colsample_bynode=None,\n",
      "              colsample_bytree=None, early_stopping_rounds=None,\n",
      "              enable_categorical=False, eval_metric=None, gamma=None,\n",
      "              gpu_id=None, grow_policy=None, importance_type=None,\n",
      "              interaction_constraints=None, learning_rate=None, max_bin=None,\n",
      "              max_cat_to_onehot=None, max_delta_step=None, max_depth=None,\n",
      "              max_leaves=None, min_child_weight=None, missing=nan,\n",
      "              monotone_constraints=None, n_estimators=100, n_jobs=None,\n",
      "              num_parallel_tree=None, predictor=None, random_state=None,\n",
      "              reg_alpha=None, reg_lambda=None, ...), model_estimator__colsample_bytree=0.7, model_estimator__gamma=0.1, model_estimator__learning_rate=0.2, model_estimator__max_depth=4, model_estimator__min_child_weight=5;, score=0.942 total time=  33.1s\n",
      "[Pipeline] ........ (step 1 of 6) Processing preprocess, total=   2.6s\n",
      "[Pipeline] ...... (step 2 of 6) Processing over_sampler, total=   9.6s\n",
      "[Pipeline] ..... (step 3 of 6) Processing under_sampler, total=   0.1s\n",
      "[Pipeline] . (step 4 of 6) Processing feature_selection, total=   9.3s\n",
      "[Pipeline]  (step 5 of 6) Processing dimension_reduction, total=   0.4s\n",
      "[Pipeline] ... (step 6 of 6) Processing model_estimator, total=  29.5s\n",
      "Best Estimator for XGBClassifier is Pipeline(steps=[('preprocess',\n",
      "                 ColumnTransformer(transformers=[('cat',\n",
      "                                                  Pipeline(steps=[('imputer',\n",
      "                                                                   SimpleImputer(strategy='most_frequent')),\n",
      "                                                                  ('encoder',\n",
      "                                                                   OneHotEncoder(handle_unknown='ignore',\n",
      "                                                                                 sparse=False)),\n",
      "                                                                  ('scaler',\n",
      "                                                                   StandardScaler())]),\n",
      "                                                  ['D_63', 'D_64', 'D_68',\n",
      "                                                   'B_30', 'B_38', 'D_114',\n",
      "                                                   'D_116', 'D_117', 'D_120',\n",
      "                                                   'D_126']),\n",
      "                                                 ('num',\n",
      "                                                  Pipeline(steps=[('imputer',\n",
      "                                                                   SimpleI...\n",
      "                               gamma=0.1, gpu_id=-1, grow_policy='depthwise',\n",
      "                               importance_type=None, interaction_constraints='',\n",
      "                               learning_rate=0.2, max_bin=256,\n",
      "                               max_cat_to_onehot=4, max_delta_step=0,\n",
      "                               max_depth=4, max_leaves=0, min_child_weight=5,\n",
      "                               missing=nan, monotone_constraints='()',\n",
      "                               n_estimators=100, n_jobs=0, num_parallel_tree=1,\n",
      "                               predictor='auto', random_state=0, reg_alpha=0,\n",
      "                               reg_lambda=1, ...))],\n",
      "         verbose=True) with best score as 0.9388517081626918\n",
      "#######################################################################\n",
      "Amex Evaluation Metric - Training: 0.025\n",
      "Amex Evaluation Metric - Validation: -0.002\n",
      "#######################################################################\n"
     ]
    }
   ],
   "source": [
    "#using custom function to display best estimator and score\n",
    "model_random_search_score(\"XGBClassifier\")"
   ]
  },
  {
   "cell_type": "markdown",
   "id": "5b8c2d5b",
   "metadata": {
    "papermill": {
     "duration": 0.033614,
     "end_time": "2022-08-20T12:29:44.322218",
     "exception": false,
     "start_time": "2022-08-20T12:29:44.288604",
     "status": "completed"
    },
    "tags": []
   },
   "source": [
    "* Using RandomizedSearchCV for LGBMClassifier"
   ]
  },
  {
   "cell_type": "code",
   "execution_count": 51,
   "id": "bf31ee8a",
   "metadata": {
    "_kg_hide-input": true,
    "execution": {
     "iopub.execute_input": "2022-08-20T12:29:44.385069Z",
     "iopub.status.busy": "2022-08-20T12:29:44.384589Z",
     "iopub.status.idle": "2022-08-20T12:29:44.392145Z",
     "shell.execute_reply": "2022-08-20T12:29:44.391238Z"
    },
    "papermill": {
     "duration": 0.041496,
     "end_time": "2022-08-20T12:29:44.394203",
     "exception": false,
     "start_time": "2022-08-20T12:29:44.352707",
     "status": "completed"
    },
    "tags": []
   },
   "outputs": [],
   "source": [
    "# using parameters for RandomizedSearchCV for LGBMClassifier\n",
    "param_random = dict(model_estimator=[LGBMClassifier()],model_estimator__num_leaves= [20,40,60,80,100],model_estimator__min_child_samples= [5,10,15],model_estimator__max_depth=[-1,5,10,20], model_estimator__learning_rate=[0.05,0.1,0.2], model_estimator__reg_alpha =[0,0.01,0.03])\n",
    "random_search = RandomizedSearchCV(pipe, param_distributions=param_random, n_iter=1, cv=3, scoring='roc_auc', verbose=3,random_state=42)"
   ]
  },
  {
   "cell_type": "markdown",
   "id": "303f2efc",
   "metadata": {
    "papermill": {
     "duration": 0.029064,
     "end_time": "2022-08-20T12:29:44.453638",
     "exception": false,
     "start_time": "2022-08-20T12:29:44.424574",
     "status": "completed"
    },
    "tags": []
   },
   "source": [
    "Best Estimator for LGBMClassifier for this training sample"
   ]
  },
  {
   "cell_type": "code",
   "execution_count": 52,
   "id": "b3c0357c",
   "metadata": {
    "_kg_hide-input": true,
    "execution": {
     "iopub.execute_input": "2022-08-20T12:29:44.521997Z",
     "iopub.status.busy": "2022-08-20T12:29:44.521338Z",
     "iopub.status.idle": "2022-08-20T12:31:20.673260Z",
     "shell.execute_reply": "2022-08-20T12:31:20.671457Z"
    },
    "papermill": {
     "duration": 96.226646,
     "end_time": "2022-08-20T12:31:20.710000",
     "exception": false,
     "start_time": "2022-08-20T12:29:44.483354",
     "status": "completed"
    },
    "tags": []
   },
   "outputs": [
    {
     "name": "stdout",
     "output_type": "stream",
     "text": [
      "#######################################################################\n",
      "Training and Evaluation with RandomizedSearchCV using LGBMClassifier\n",
      "#######################################################################\n",
      "Fitting 3 folds for each of 1 candidates, totalling 3 fits\n",
      "[Pipeline] ........ (step 1 of 6) Processing preprocess, total=   1.8s\n",
      "[Pipeline] ...... (step 2 of 6) Processing over_sampler, total=   4.5s\n",
      "[Pipeline] ..... (step 3 of 6) Processing under_sampler, total=   0.1s\n",
      "[Pipeline] . (step 4 of 6) Processing feature_selection, total=   6.4s\n",
      "[Pipeline]  (step 5 of 6) Processing dimension_reduction, total=   0.3s\n",
      "[Pipeline] ... (step 6 of 6) Processing model_estimator, total=   7.2s\n",
      "[CV 1/3] END model_estimator=LGBMClassifier(), model_estimator__learning_rate=0.05, model_estimator__max_depth=10, model_estimator__min_child_samples=5, model_estimator__num_leaves=100, model_estimator__reg_alpha=0;, score=0.948 total time=  20.9s\n",
      "[Pipeline] ........ (step 1 of 6) Processing preprocess, total=   1.8s\n",
      "[Pipeline] ...... (step 2 of 6) Processing over_sampler, total=   4.8s\n",
      "[Pipeline] ..... (step 3 of 6) Processing under_sampler, total=   0.1s\n",
      "[Pipeline] . (step 4 of 6) Processing feature_selection, total=   6.4s\n",
      "[Pipeline]  (step 5 of 6) Processing dimension_reduction, total=   0.3s\n",
      "[Pipeline] ... (step 6 of 6) Processing model_estimator, total=   7.3s\n",
      "[CV 2/3] END model_estimator=LGBMClassifier(), model_estimator__learning_rate=0.05, model_estimator__max_depth=10, model_estimator__min_child_samples=5, model_estimator__num_leaves=100, model_estimator__reg_alpha=0;, score=0.950 total time=  21.3s\n",
      "[Pipeline] ........ (step 1 of 6) Processing preprocess, total=   1.8s\n",
      "[Pipeline] ...... (step 2 of 6) Processing over_sampler, total=   4.3s\n",
      "[Pipeline] ..... (step 3 of 6) Processing under_sampler, total=   0.1s\n",
      "[Pipeline] . (step 4 of 6) Processing feature_selection, total=   6.3s\n",
      "[Pipeline]  (step 5 of 6) Processing dimension_reduction, total=   0.4s\n",
      "[Pipeline] ... (step 6 of 6) Processing model_estimator, total=   7.1s\n",
      "[CV 3/3] END model_estimator=LGBMClassifier(), model_estimator__learning_rate=0.05, model_estimator__max_depth=10, model_estimator__min_child_samples=5, model_estimator__num_leaves=100, model_estimator__reg_alpha=0;, score=0.954 total time=  20.6s\n",
      "[Pipeline] ........ (step 1 of 6) Processing preprocess, total=   2.6s\n",
      "[Pipeline] ...... (step 2 of 6) Processing over_sampler, total=   9.6s\n",
      "[Pipeline] ..... (step 3 of 6) Processing under_sampler, total=   0.1s\n",
      "[Pipeline] . (step 4 of 6) Processing feature_selection, total=   9.8s\n",
      "[Pipeline]  (step 5 of 6) Processing dimension_reduction, total=   0.4s\n",
      "[Pipeline] ... (step 6 of 6) Processing model_estimator, total=   8.1s\n",
      "Best Estimator for LGBMClassifier is Pipeline(steps=[('preprocess',\n",
      "                 ColumnTransformer(transformers=[('cat',\n",
      "                                                  Pipeline(steps=[('imputer',\n",
      "                                                                   SimpleImputer(strategy='most_frequent')),\n",
      "                                                                  ('encoder',\n",
      "                                                                   OneHotEncoder(handle_unknown='ignore',\n",
      "                                                                                 sparse=False)),\n",
      "                                                                  ('scaler',\n",
      "                                                                   StandardScaler())]),\n",
      "                                                  ['D_63', 'D_64', 'D_68',\n",
      "                                                   'B_30', 'B_38', 'D_114',\n",
      "                                                   'D_116', 'D_117', 'D_120',\n",
      "                                                   'D_126']),\n",
      "                                                 ('num',\n",
      "                                                  Pipeline(steps=[('imputer',\n",
      "                                                                   SimpleI...\n",
      "                ('over_sampler', SMOTE(random_state=42)),\n",
      "                ('under_sampler', RandomUnderSampler()),\n",
      "                ('feature_selection',\n",
      "                 SelectFromModel(estimator=RandomForestClassifier(n_estimators=10,\n",
      "                                                                  n_jobs=-1,\n",
      "                                                                  random_state=42))),\n",
      "                ('dimension_reduction',\n",
      "                 PCA(n_components='mle', random_state=42)),\n",
      "                ('model_estimator',\n",
      "                 LGBMClassifier(learning_rate=0.05, max_depth=10,\n",
      "                                min_child_samples=5, num_leaves=100,\n",
      "                                reg_alpha=0))],\n",
      "         verbose=True) with best score as 0.9505261540502303\n",
      "#######################################################################\n",
      "Amex Evaluation Metric - Training: 0.023\n",
      "Amex Evaluation Metric - Validation: -0.000\n",
      "#######################################################################\n"
     ]
    }
   ],
   "source": [
    "#using custom function to display best estimator and score\n",
    "model_random_search_score(\"LGBMClassifier\")"
   ]
  },
  {
   "cell_type": "markdown",
   "id": "594a1362",
   "metadata": {
    "papermill": {
     "duration": 0.032078,
     "end_time": "2022-08-20T12:31:20.774330",
     "exception": false,
     "start_time": "2022-08-20T12:31:20.742252",
     "status": "completed"
    },
    "tags": []
   },
   "source": [
    "---\n",
    "**Prediction/Sample Submission file**\n",
    "\n",
    "---"
   ]
  },
  {
   "cell_type": "code",
   "execution_count": 53,
   "id": "6444d981",
   "metadata": {
    "_kg_hide-input": true,
    "execution": {
     "iopub.execute_input": "2022-08-20T12:31:20.842319Z",
     "iopub.status.busy": "2022-08-20T12:31:20.841731Z",
     "iopub.status.idle": "2022-08-20T12:31:21.063428Z",
     "shell.execute_reply": "2022-08-20T12:31:21.062068Z"
    },
    "papermill": {
     "duration": 0.259908,
     "end_time": "2022-08-20T12:31:21.066589",
     "exception": false,
     "start_time": "2022-08-20T12:31:20.806681",
     "status": "completed"
    },
    "tags": []
   },
   "outputs": [],
   "source": [
    "test_df_new=test_df.reset_index()"
   ]
  },
  {
   "cell_type": "code",
   "execution_count": 54,
   "id": "cc4c957f",
   "metadata": {
    "_kg_hide-input": true,
    "execution": {
     "iopub.execute_input": "2022-08-20T12:31:21.134290Z",
     "iopub.status.busy": "2022-08-20T12:31:21.133827Z",
     "iopub.status.idle": "2022-08-20T12:31:21.150306Z",
     "shell.execute_reply": "2022-08-20T12:31:21.148451Z"
    },
    "papermill": {
     "duration": 0.053026,
     "end_time": "2022-08-20T12:31:21.152945",
     "exception": false,
     "start_time": "2022-08-20T12:31:21.099919",
     "status": "completed"
    },
    "tags": []
   },
   "outputs": [],
   "source": [
    "del test_df"
   ]
  },
  {
   "cell_type": "code",
   "execution_count": 55,
   "id": "6e90d47d",
   "metadata": {
    "_kg_hide-input": true,
    "execution": {
     "iopub.execute_input": "2022-08-20T12:31:21.221861Z",
     "iopub.status.busy": "2022-08-20T12:31:21.221361Z",
     "iopub.status.idle": "2022-08-20T12:31:21.322871Z",
     "shell.execute_reply": "2022-08-20T12:31:21.321484Z"
    },
    "papermill": {
     "duration": 0.13976,
     "end_time": "2022-08-20T12:31:21.326178",
     "exception": false,
     "start_time": "2022-08-20T12:31:21.186418",
     "status": "completed"
    },
    "tags": []
   },
   "outputs": [],
   "source": [
    "X_test_predict = test_df_new.groupby('customer_ID').tail(1)"
   ]
  },
  {
   "cell_type": "code",
   "execution_count": 56,
   "id": "620e7fca",
   "metadata": {
    "_kg_hide-input": true,
    "execution": {
     "iopub.execute_input": "2022-08-20T12:31:21.393051Z",
     "iopub.status.busy": "2022-08-20T12:31:21.391779Z",
     "iopub.status.idle": "2022-08-20T12:31:21.400903Z",
     "shell.execute_reply": "2022-08-20T12:31:21.399594Z"
    },
    "papermill": {
     "duration": 0.045777,
     "end_time": "2022-08-20T12:31:21.404096",
     "exception": false,
     "start_time": "2022-08-20T12:31:21.358319",
     "status": "completed"
    },
    "tags": []
   },
   "outputs": [
    {
     "data": {
      "text/plain": [
       "(8154, 166)"
      ]
     },
     "execution_count": 56,
     "metadata": {},
     "output_type": "execute_result"
    }
   ],
   "source": [
    "X_test_predict.shape"
   ]
  },
  {
   "cell_type": "code",
   "execution_count": 57,
   "id": "53330094",
   "metadata": {
    "_kg_hide-input": true,
    "execution": {
     "iopub.execute_input": "2022-08-20T12:31:21.470844Z",
     "iopub.status.busy": "2022-08-20T12:31:21.469358Z",
     "iopub.status.idle": "2022-08-20T12:31:21.477954Z",
     "shell.execute_reply": "2022-08-20T12:31:21.476203Z"
    },
    "papermill": {
     "duration": 0.044271,
     "end_time": "2022-08-20T12:31:21.480359",
     "exception": false,
     "start_time": "2022-08-20T12:31:21.436088",
     "status": "completed"
    },
    "tags": []
   },
   "outputs": [],
   "source": [
    "X_test_predict.set_index('customer_ID', inplace=True)"
   ]
  },
  {
   "cell_type": "markdown",
   "id": "a8f8c9bd",
   "metadata": {
    "papermill": {
     "duration": 0.030754,
     "end_time": "2022-08-20T12:31:21.641971",
     "exception": false,
     "start_time": "2022-08-20T12:31:21.611217",
     "status": "completed"
    },
    "tags": []
   },
   "source": [
    "Prediction on test dataset "
   ]
  },
  {
   "cell_type": "code",
   "execution_count": 58,
   "id": "96eac9b0",
   "metadata": {
    "_kg_hide-input": true,
    "execution": {
     "iopub.execute_input": "2022-08-20T12:31:21.707020Z",
     "iopub.status.busy": "2022-08-20T12:31:21.706093Z",
     "iopub.status.idle": "2022-08-20T12:31:21.712080Z",
     "shell.execute_reply": "2022-08-20T12:31:21.710683Z"
    },
    "papermill": {
     "duration": 0.041832,
     "end_time": "2022-08-20T12:31:21.714984",
     "exception": false,
     "start_time": "2022-08-20T12:31:21.673152",
     "status": "completed"
    },
    "tags": []
   },
   "outputs": [],
   "source": [
    "model = random_search.best_estimator_"
   ]
  },
  {
   "cell_type": "code",
   "execution_count": 59,
   "id": "aa7f8821",
   "metadata": {
    "_kg_hide-input": true,
    "execution": {
     "iopub.execute_input": "2022-08-20T12:31:21.782307Z",
     "iopub.status.busy": "2022-08-20T12:31:21.781846Z",
     "iopub.status.idle": "2022-08-20T12:31:22.197297Z",
     "shell.execute_reply": "2022-08-20T12:31:22.195102Z"
    },
    "papermill": {
     "duration": 0.455536,
     "end_time": "2022-08-20T12:31:22.202606",
     "exception": false,
     "start_time": "2022-08-20T12:31:21.747070",
     "status": "completed"
    },
    "tags": []
   },
   "outputs": [],
   "source": [
    "# prediction on test dataset\n",
    "y_test_pred = model.predict(X_test_predict)"
   ]
  },
  {
   "cell_type": "markdown",
   "id": "0e13998a",
   "metadata": {
    "papermill": {
     "duration": 0.032485,
     "end_time": "2022-08-20T12:31:22.303921",
     "exception": false,
     "start_time": "2022-08-20T12:31:22.271436",
     "status": "completed"
    },
    "tags": []
   },
   "source": [
    "Generation of submission.csv file with customer_ID and prediction as header"
   ]
  },
  {
   "cell_type": "code",
   "execution_count": 60,
   "id": "f70e2cd6",
   "metadata": {
    "_kg_hide-input": true,
    "execution": {
     "iopub.execute_input": "2022-08-20T12:31:22.370826Z",
     "iopub.status.busy": "2022-08-20T12:31:22.369783Z",
     "iopub.status.idle": "2022-08-20T12:31:22.402973Z",
     "shell.execute_reply": "2022-08-20T12:31:22.401528Z"
    },
    "papermill": {
     "duration": 0.069973,
     "end_time": "2022-08-20T12:31:22.406070",
     "exception": false,
     "start_time": "2022-08-20T12:31:22.336097",
     "status": "completed"
    },
    "tags": []
   },
   "outputs": [],
   "source": [
    "# generate submission file\n",
    "output = pd.DataFrame({'customer_ID': X_test_predict.index,'prediction': y_test_pred})\n",
    "output.to_csv('submission.csv', index=False, header=True)"
   ]
  },
  {
   "cell_type": "markdown",
   "id": "4c80b0d4",
   "metadata": {
    "papermill": {
     "duration": 0.031525,
     "end_time": "2022-08-20T12:31:22.469320",
     "exception": false,
     "start_time": "2022-08-20T12:31:22.437795",
     "status": "completed"
    },
    "tags": []
   },
   "source": [
    "---\n",
    "# Summary\n",
    "\n",
    "---"
   ]
  },
  {
   "cell_type": "markdown",
   "id": "9c563192",
   "metadata": {
    "papermill": {
     "duration": 0.0321,
     "end_time": "2022-08-20T12:31:22.534981",
     "exception": false,
     "start_time": "2022-08-20T12:31:22.502881",
     "status": "completed"
    },
    "tags": []
   },
   "source": [
    "* Variables (Columns) with missing value >= 75% was removed\n",
    "* SimpleImputer was used for Variables (Columns) with missing value <= 25%\n",
    "* OneHotEncoder was used for encoding Categorical Variables\n",
    "* SMOTE was used to address Data Imbalance along with RandomUnderSampler\n",
    "* RandomForestClassifier was used for Feature Selection\n",
    "* PCA was used for Dimensionality Reduction\n",
    "\n",
    "LGBMClassifier has been the fastest classifier on this 100k sample training dataset"
   ]
  }
 ],
 "metadata": {
  "kernelspec": {
   "display_name": "Python 3 (ipykernel)",
   "language": "python",
   "name": "python3"
  },
  "language_info": {
   "codemirror_mode": {
    "name": "ipython",
    "version": 3
   },
   "file_extension": ".py",
   "mimetype": "text/x-python",
   "name": "python",
   "nbconvert_exporter": "python",
   "pygments_lexer": "ipython3",
   "version": "3.9.7"
  },
  "papermill": {
   "default_parameters": {},
   "duration": 1176.891269,
   "end_time": "2022-08-20T12:31:26.135293",
   "environment_variables": {},
   "exception": null,
   "input_path": "__notebook__.ipynb",
   "output_path": "__notebook__.ipynb",
   "parameters": {},
   "start_time": "2022-08-20T12:11:49.244024",
   "version": "2.3.4"
  }
 },
 "nbformat": 4,
 "nbformat_minor": 5
}
